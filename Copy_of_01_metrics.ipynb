{
  "nbformat": 4,
  "nbformat_minor": 0,
  "metadata": {
    "colab": {
      "provenance": [],
      "toc_visible": true,
      "include_colab_link": true
    },
    "kernelspec": {
      "name": "python3",
      "display_name": "Python 3"
    },
    "language_info": {
      "name": "python"
    }
  },
  "cells": [
    {
      "cell_type": "markdown",
      "metadata": {
        "id": "view-in-github",
        "colab_type": "text"
      },
      "source": [
        "<a href=\"https://colab.research.google.com/github/Kirungu1/Kirungu1/blob/main/Copy_of_01_metrics.ipynb\" target=\"_parent\"><img src=\"https://colab.research.google.com/assets/colab-badge.svg\" alt=\"Open In Colab\"/></a>"
      ]
    },
    {
      "cell_type": "markdown",
      "source": [
        "\n",
        "---\n",
        "\n",
        "Simple implementation of biometric recognition-related metrics.  \n",
        "\n",
        "Language: Python 3  \n",
        "\n",
        "Needed libraries:\n",
        "* matplotlib (https://matplotlib.org/)"
      ],
      "metadata": {
        "id": "W2h79Hrpn2yV"
      }
    },
    {
      "cell_type": "markdown",
      "source": [
        "## Needed libraries and files"
      ],
      "metadata": {
        "id": "BE8EQN9HqiV5"
      }
    },
    {
      "cell_type": "code",
      "source": [
        "# download of CSV file with biometric system output samples\n",
        "!pip install gdown\n",
        "!gdown 1lbYw3ZxXlaxY9yoT8ASeVSlwDfvQjcuF"
      ],
      "metadata": {
        "id": "hqB-XRACwmjz",
        "colab": {
          "base_uri": "https://localhost:8080/"
        },
        "outputId": "e9aee928-5c12-4fdb-dddb-1fee00495af7"
      },
      "execution_count": null,
      "outputs": [
        {
          "output_type": "stream",
          "name": "stdout",
          "text": [
            "Requirement already satisfied: gdown in /usr/local/lib/python3.10/dist-packages (5.1.0)\n",
            "Requirement already satisfied: beautifulsoup4 in /usr/local/lib/python3.10/dist-packages (from gdown) (4.12.3)\n",
            "Requirement already satisfied: filelock in /usr/local/lib/python3.10/dist-packages (from gdown) (3.15.4)\n",
            "Requirement already satisfied: requests[socks] in /usr/local/lib/python3.10/dist-packages (from gdown) (2.32.3)\n",
            "Requirement already satisfied: tqdm in /usr/local/lib/python3.10/dist-packages (from gdown) (4.66.5)\n",
            "Requirement already satisfied: soupsieve>1.2 in /usr/local/lib/python3.10/dist-packages (from beautifulsoup4->gdown) (2.6)\n",
            "Requirement already satisfied: charset-normalizer<4,>=2 in /usr/local/lib/python3.10/dist-packages (from requests[socks]->gdown) (3.3.2)\n",
            "Requirement already satisfied: idna<4,>=2.5 in /usr/local/lib/python3.10/dist-packages (from requests[socks]->gdown) (3.8)\n",
            "Requirement already satisfied: urllib3<3,>=1.21.1 in /usr/local/lib/python3.10/dist-packages (from requests[socks]->gdown) (2.0.7)\n",
            "Requirement already satisfied: certifi>=2017.4.17 in /usr/local/lib/python3.10/dist-packages (from requests[socks]->gdown) (2024.7.4)\n",
            "Requirement already satisfied: PySocks!=1.5.7,>=1.5.6 in /usr/local/lib/python3.10/dist-packages (from requests[socks]->gdown) (1.7.1)\n",
            "Downloading...\n",
            "From: https://drive.google.com/uc?id=1lbYw3ZxXlaxY9yoT8ASeVSlwDfvQjcuF\n",
            "To: /content/test.csv\n",
            "100% 979/979 [00:00<00:00, 3.96MB/s]\n"
          ]
        }
      ]
    },
    {
      "cell_type": "code",
      "source": [
        "# sanity check: shows the content of the downloaded file\n",
        "! wc -l /content/test.csv\n",
        "! cat /content/test.csv"
      ],
      "metadata": {
        "id": "8qixiaEUxwUV",
        "colab": {
          "base_uri": "https://localhost:8080/"
        },
        "outputId": "6fa6046c-5709-43ab-a2fa-43c56cf6bdca"
      },
      "execution_count": null,
      "outputs": [
        {
          "output_type": "stream",
          "name": "stdout",
          "text": [
            "104 /content/test.csv\n",
            "# label [0: impostor, 1: genuine], score\n",
            "# impostor samples\n",
            "0,0.1056\n",
            "0,0.5825\n",
            "0,0.2929\n",
            "0,0.2607\n",
            "0,0.2525\n",
            "0,0.1964\n",
            "0,0.3671\n",
            "0,0.2992\n",
            "0,0.4913\n",
            "0,0.1809\n",
            "0,0.3676\n",
            "0,0.3794\n",
            "0,0.1118\n",
            "0,0.5050\n",
            "0,0.4461\n",
            "0,0.2626\n",
            "0,0.2027\n",
            "0,0.0449\n",
            "0,0.2442\n",
            "0,0.1561\n",
            "0,0.0583\n",
            "0,0.3961\n",
            "0,0.1939\n",
            "0,0.3543\n",
            "0,0.6246\n",
            "0,0.0618\n",
            "0,0.2086\n",
            "0,0.5374\n",
            "0,0.2288\n",
            "0,0.6175\n",
            "0,0.3381\n",
            "0,0.2324\n",
            "0,0.4454\n",
            "0,0.4229\n",
            "0,0.5364\n",
            "0,0.3550\n",
            "0,0.3981\n",
            "0,0.5387\n",
            "0,0.3905\n",
            "0,0.5475\n",
            "0,0.3772\n",
            "0,0.4319\n",
            "0,0.3054\n",
            "0,0.5976\n",
            "0,0.4844\n",
            "0,0.5278\n",
            "0,0.3787\n",
            "0,0.5438\n",
            "0,0.3291\n",
            "0,0.0554\n",
            "\n",
            "# genuine samples\n",
            "1,0.7392\n",
            "1,0.5534\n",
            "1,0.6483\n",
            "1,0.6937\n",
            "1,0.5206\n",
            "1,0.7320\n",
            "1,1.0362\n",
            "1,0.6279\n",
            "1,0.7343\n",
            "1,0.9175\n",
            "1,0.6404\n",
            "1,0.8470\n",
            "1,0.3945\n",
            "1,0.5561\n",
            "1,1.1340\n",
            "1,0.7414\n",
            "1,0.3848\n",
            "1,0.7132\n",
            "1,0.3967\n",
            "1,0.5531\n",
            "1,0.8643\n",
            "1,1.0094\n",
            "1,0.6850\n",
            "1,0.8294\n",
            "1,0.7978\n",
            "1,0.7453\n",
            "1,0.4288\n",
            "1,0.4733\n",
            "1,0.8677\n",
            "1,0.9161\n",
            "1,0.8347\n",
            "1,0.6816\n",
            "1,0.3869\n",
            "1,1.1378\n",
            "1,0.8006\n",
            "1,0.9798\n",
            "1,0.8548\n",
            "1,1.0816\n",
            "1,0.5985\n",
            "1,0.5999\n",
            "1,0.7260\n",
            "1,0.3888\n",
            "1,0.9227\n",
            "1,0.6418\n",
            "1,0.5987\n",
            "1,0.7297\n",
            "1,0.9816\n",
            "1,0.8379\n",
            "1,0.6145\n",
            "1,0.9720\n"
          ]
        }
      ]
    },
    {
      "cell_type": "code",
      "execution_count": null,
      "metadata": {
        "id": "8GvY-Z3cl_4P",
        "colab": {
          "base_uri": "https://localhost:8080/"
        },
        "outputId": "4158122d-2464-4ae9-c19a-796813f195ee"
      },
      "outputs": [
        {
          "output_type": "stream",
          "name": "stdout",
          "text": [
            "3.7.1\n"
          ]
        }
      ],
      "source": [
        "# imported libraries\n",
        "import matplotlib as plt\n",
        "print(plt.__version__)"
      ]
    },
    {
      "cell_type": "markdown",
      "source": [
        "## Auxiliary functions."
      ],
      "metadata": {
        "id": "iwOBgbBKqZ8N"
      }
    },
    {
      "cell_type": "code",
      "source": [
        "# Sums all the values in the given list, using pairwise summation to reduce\n",
        "# round-off error.\n",
        "def _pairwise_sum(values):\n",
        "  sum = float('NaN') # nothing computed, returns not-a-number\n",
        "\n",
        "  if len(values) == 0:\n",
        "    sum = 0.0 # nothing to sum, returns zero\n",
        "\n",
        "  elif len(values) == 1:\n",
        "    sum = float(values[0]) # one element, returns it\n",
        "\n",
        "  elif len(values) == 2:\n",
        "    sum = float(values[0] + values[1]) # two elements, returns their sum\n",
        "\n",
        "  else:\n",
        "    i = int(len(values) / 2)\n",
        "    sum = _pairwise_sum(values[0:i]) + _pairwise_sum(values[i:len(values)]) # recursive call\n",
        "\n",
        "  return sum"
      ],
      "metadata": {
        "id": "vWFcWuLIqFk6"
      },
      "execution_count": null,
      "outputs": []
    },
    {
      "cell_type": "code",
      "source": [
        "# tests pairwise sum\n",
        "try:\n",
        "  _pairwise_sum(None)\n",
        "except TypeError:\n",
        "    print(\"Pairwise sum won't work with None value.\")\n",
        "\n",
        "assert _pairwise_sum([]) == 0.0  # empty array\n",
        "assert _pairwise_sum([10]) == 10.0  # one element\n",
        "assert _pairwise_sum([10, 20]) == 30.0  # even number of elements\n",
        "assert _pairwise_sum([10, 20, -30, -0.5]) == -0.5  # even number of elements\n",
        "assert _pairwise_sum([10, 20, -30]) == 0.0  # odd number of elements\n",
        "assert _pairwise_sum([10, 20, -30, -0.5, 0.5]) == 0.0  # odd number of elements"
      ],
      "metadata": {
        "id": "uM3CKSNzs4M-",
        "colab": {
          "base_uri": "https://localhost:8080/"
        },
        "outputId": "3d3cdbda-1ee2-46af-ec26-0e1edf4c08d1"
      },
      "execution_count": null,
      "outputs": [
        {
          "output_type": "stream",
          "name": "stdout",
          "text": [
            "Pairwise sum won't work with None value.\n"
          ]
        }
      ]
    },
    {
      "cell_type": "markdown",
      "source": [
        "---"
      ],
      "metadata": {
        "id": "l_49p-bKtW6f"
      }
    },
    {
      "cell_type": "code",
      "source": [
        "# Computes the variance of the given values.\n",
        "def _compute_var(values):\n",
        "  var = float('NaN') # nothing computed, returns not-a-number\n",
        "\n",
        "  if len(values) > 0:\n",
        "    # mean of values\n",
        "    mean = _pairwise_sum(values) / len(values)\n",
        "\n",
        "    # deviations\n",
        "    deviations = [(v - mean) ** 2.0 for v in values]\n",
        "\n",
        "    # variance\n",
        "    var = _pairwise_sum(deviations) / len(deviations)\n",
        "\n",
        "  return var"
      ],
      "metadata": {
        "id": "wrFAqmB-tRdG"
      },
      "execution_count": null,
      "outputs": []
    },
    {
      "cell_type": "code",
      "source": [
        "# tests calculation of variance\n",
        "try:\n",
        "    _compute_var(None)\n",
        "except TypeError:\n",
        "    print(\"Var calculation won't work with None value.\")\n",
        "\n",
        "assert not float('-inf') < _compute_var([]) < float('inf')  # empty array, not a number\n",
        "assert _compute_var([10]) == 0.0  # one element\n",
        "assert float('-inf') < _compute_var([10, 20]) < float('inf')  # even number of elements\n",
        "assert float('-inf') < _compute_var([10, 20, -30, -0.5]) < float('inf')  # even number of elements\n",
        "assert float('-inf') < _compute_var([10, 20, -30]) < float('inf')  # odd number of elements\n",
        "assert float('-inf') < _compute_var([10, 20, -30, -0.5, 0.5]) < float('inf')  # odd number of elements"
      ],
      "metadata": {
        "id": "SdWGKlfxun0g",
        "colab": {
          "base_uri": "https://localhost:8080/"
        },
        "outputId": "7fb57712-b7d2-4735-dd11-4da758498b5f"
      },
      "execution_count": null,
      "outputs": [
        {
          "output_type": "stream",
          "name": "stdout",
          "text": [
            "Var calculation won't work with None value.\n"
          ]
        }
      ]
    },
    {
      "cell_type": "markdown",
      "source": [
        "---"
      ],
      "metadata": {
        "id": "jC6T1ixzvVDQ"
      }
    },
    {
      "cell_type": "code",
      "source": [
        "# Loads data from the CSV file stored in the given file path.\n",
        "# Expected file line format: <label>,<score>\n",
        "# Comment lines starting with \"#\" will be ignored.\n",
        "# Output: array of (<label>,<score>) elements.\n",
        "def load_data(file_path):\n",
        "  # output\n",
        "  output = [] # empty content\n",
        "\n",
        "  # reads each line of the file,\n",
        "  # ignoring empty lines and the ones starting with '#'\n",
        "  with open(file_path) as f:\n",
        "    for line in f:\n",
        "      content = line.strip().split(',')\n",
        "      if len(content) > 0 and len(content[0]) > 0 and content[0][0] != '#': # valid line; other will be ignored\n",
        "        label = int(content[0])\n",
        "        score = float(content[1])\n",
        "\n",
        "        output.append((label, score))\n",
        "\n",
        "  return output"
      ],
      "metadata": {
        "id": "xFhJQiurvWW1"
      },
      "execution_count": null,
      "outputs": []
    },
    {
      "cell_type": "code",
      "source": [
        "# tests loading of CSV file\n",
        "try:\n",
        "  load_data('nofile.csv')\n",
        "except FileNotFoundError:\n",
        "  print(\"Can't read a file that doesn't exist.\")\n",
        "\n",
        "output = load_data('/content/test.csv')\n",
        "assert len(output) > 0\n",
        "print('observations:', len(output), output)"
      ],
      "metadata": {
        "id": "tYJ5fRGyzALY",
        "outputId": "22767924-5a76-4e88-f653-d71cfcbdf94d",
        "colab": {
          "base_uri": "https://localhost:8080/"
        }
      },
      "execution_count": null,
      "outputs": [
        {
          "output_type": "stream",
          "name": "stdout",
          "text": [
            "Can't read a file that doesn't exist.\n",
            "observations: 100 [(0, 0.1056), (0, 0.5825), (0, 0.2929), (0, 0.2607), (0, 0.2525), (0, 0.1964), (0, 0.3671), (0, 0.2992), (0, 0.4913), (0, 0.1809), (0, 0.3676), (0, 0.3794), (0, 0.1118), (0, 0.505), (0, 0.4461), (0, 0.2626), (0, 0.2027), (0, 0.0449), (0, 0.2442), (0, 0.1561), (0, 0.0583), (0, 0.3961), (0, 0.1939), (0, 0.3543), (0, 0.6246), (0, 0.0618), (0, 0.2086), (0, 0.5374), (0, 0.2288), (0, 0.6175), (0, 0.3381), (0, 0.2324), (0, 0.4454), (0, 0.4229), (0, 0.5364), (0, 0.355), (0, 0.3981), (0, 0.5387), (0, 0.3905), (0, 0.5475), (0, 0.3772), (0, 0.4319), (0, 0.3054), (0, 0.5976), (0, 0.4844), (0, 0.5278), (0, 0.3787), (0, 0.5438), (0, 0.3291), (0, 0.0554), (1, 0.7392), (1, 0.5534), (1, 0.6483), (1, 0.6937), (1, 0.5206), (1, 0.732), (1, 1.0362), (1, 0.6279), (1, 0.7343), (1, 0.9175), (1, 0.6404), (1, 0.847), (1, 0.3945), (1, 0.5561), (1, 1.134), (1, 0.7414), (1, 0.3848), (1, 0.7132), (1, 0.3967), (1, 0.5531), (1, 0.8643), (1, 1.0094), (1, 0.685), (1, 0.8294), (1, 0.7978), (1, 0.7453), (1, 0.4288), (1, 0.4733), (1, 0.8677), (1, 0.9161), (1, 0.8347), (1, 0.6816), (1, 0.3869), (1, 1.1378), (1, 0.8006), (1, 0.9798), (1, 0.8548), (1, 1.0816), (1, 0.5985), (1, 0.5999), (1, 0.726), (1, 0.3888), (1, 0.9227), (1, 0.6418), (1, 0.5987), (1, 0.7297), (1, 0.9816), (1, 0.8379), (1, 0.6145), (1, 0.972)]\n"
          ]
        }
      ]
    },
    {
      "cell_type": "markdown",
      "source": [
        "---\n",
        "\n",
        "## d' Implementation"
      ],
      "metadata": {
        "id": "kOHywXcW0IFl"
      }
    },
    {
      "cell_type": "code",
      "source": [
        "# Computes d-prime for the given observations.\n",
        "# Observations must be an array of (<label>,<score>) elements.\n",
        "# Labels must be either 0 (impostor) or something else (genuine).\n",
        "# If either the number of impostors or genuine observations is zero,\n",
        "# it returns 'NaN' as d-prime.\n",
        "def compute_d_prime(observations):\n",
        "  # output\n",
        "  d_prime = float('NaN') # nothing computed, returns not-a-number\n",
        "\n",
        "  # separates genuine and impostor scores\n",
        "  genuine_scores = []\n",
        "  impostor_scores = []\n",
        "\n",
        "  # for each given observation\n",
        "  for obs in observations:\n",
        "    if obs[0] == 0:  # impostor\n",
        "      impostor_scores.append(obs[1])\n",
        "    else:  # genuine\n",
        "      genuine_scores.append(obs[1])\n",
        "\n",
        "  # if there are values for both classes (impostor and genuine)\n",
        "  if len(genuine_scores) > 0 and len(impostor_scores) > 0:\n",
        "    # computes mean values\n",
        "    genuine_mean = _pairwise_sum(genuine_scores) / len(genuine_scores)\n",
        "    impostor_mean = _pairwise_sum(impostor_scores) / len(impostor_scores)\n",
        "\n",
        "    # computes variances\n",
        "    genuine_var = _compute_var(genuine_scores)\n",
        "    impostor_var = _compute_var(impostor_scores)\n",
        "\n",
        "    # d-prime computation\n",
        "    d_prime = 2.0 ** 0.5 * abs(genuine_mean - impostor_mean) / (genuine_var + impostor_var) ** 0.5\n",
        "\n",
        "  return d_prime"
      ],
      "metadata": {
        "id": "8LJuvw4T0p7X"
      },
      "execution_count": null,
      "outputs": []
    },
    {
      "cell_type": "code",
      "source": [
        "# tests d-prime computation\n",
        "try:\n",
        "    compute_d_prime(None)\n",
        "except TypeError:\n",
        "    print(\"d-prime calculation won't work on None value.\")\n",
        "\n",
        "try:\n",
        "    compute_d_prime([0])\n",
        "except TypeError:\n",
        "    print(\"d-prime calculation won't work on arrays not containing (<label>,<score>) elements.\")\n",
        "\n",
        "assert not float('-inf') < compute_d_prime([]) < float('inf')  # empty array, not a number\n",
        "assert not float('-inf') < compute_d_prime([(0, 0.1)]) < float('inf')  # missing genuine, not a number\n",
        "assert not float('-inf') < compute_d_prime([(1, 0.1)]) < float('inf')  # missing impostors, not a number\n",
        "\n",
        "d_prime = compute_d_prime([(0, 2), (0, 4), (1, 0), (1, 2)])\n",
        "assert d_prime == 2.0"
      ],
      "metadata": {
        "id": "aLaK08Lb3EAn",
        "outputId": "4414a657-0b4b-49d2-cc5a-142af19712ae",
        "colab": {
          "base_uri": "https://localhost:8080/"
        }
      },
      "execution_count": null,
      "outputs": [
        {
          "output_type": "stream",
          "name": "stdout",
          "text": [
            "d-prime calculation won't work on None value.\n",
            "d-prime calculation won't work on arrays not containing (<label>,<score>) elements.\n"
          ]
        }
      ]
    },
    {
      "cell_type": "markdown",
      "source": [
        "---\n",
        "### Exercise 1\n",
        "Compute d' for the content of <code>/content/test.csv</code>."
      ],
      "metadata": {
        "id": "9g5ZCVAAGT8E"
      }
    },
    {
      "cell_type": "code",
      "source": [
        "# add your code here\n",
        "import math\n",
        "\n",
        "# Sums all the values in the given list, using pairwise summation to reduce round-off error.\n",
        "def _pairwise_sum(values):\n",
        "    if len(values) == 0:\n",
        "        return 0.0\n",
        "    elif len(values) == 1:\n",
        "        return float(values[0])\n",
        "    elif len(values) == 2:\n",
        "        return float(values[0] + values[1])\n",
        "    else:\n",
        "        i = len(values) // 2\n",
        "        return _pairwise_sum(values[:i]) + _pairwise_sum(values[i:])\n",
        "\n",
        "# Computes the variance of the given values.\n",
        "def _compute_var(values):\n",
        "    if len(values) == 0:\n",
        "        return float('NaN')\n",
        "\n",
        "    mean = _pairwise_sum(values) / len(values)\n",
        "    deviations = [(v - mean) ** 2 for v in values]\n",
        "    return _pairwise_sum(deviations) / len(deviations)\n",
        "\n",
        "# Loads data from the CSV file stored in the given file path.\n",
        "def load_data(file_path):\n",
        "    output = []\n",
        "    with open(file_path) as f:\n",
        "        for line in f:\n",
        "            content = line.strip().split(',')\n",
        "            if len(content) > 0 and len(content[0]) > 0 and content[0][0] != '#':\n",
        "                label = int(content[0])\n",
        "                score = float(content[1])\n",
        "                output.append((label, score))\n",
        "    return output\n",
        "\n",
        "# Computes d-prime for the given observations.\n",
        "def compute_d_prime(observations):\n",
        "    genuine_scores = [obs[1] for obs in observations if obs[0] == 1]\n",
        "    impostor_scores = [obs[1] for obs in observations if obs[0] == 0]\n",
        "\n",
        "    if len(genuine_scores) == 0 or len(impostor_scores) == 0:\n",
        "        return float('NaN')\n",
        "\n",
        "    genuine_mean = _pairwise_sum(genuine_scores) / len(genuine_scores)\n",
        "    impostor_mean = _pairwise_sum(impostor_scores) / len(impostor_scores)\n",
        "\n",
        "    genuine_var = _compute_var(genuine_scores)\n",
        "    impostor_var = _compute_var(impostor_scores)\n",
        "\n",
        "    d_prime = math.sqrt(2) * abs(genuine_mean - impostor_mean) / math.sqrt(genuine_var + impostor_var)\n",
        "    return d_prime\n",
        "\n",
        "# Load data from the CSV file\n",
        "file_path = '/content/test.csv'\n",
        "observations = load_data(file_path)\n",
        "\n",
        "# Compute d-prime\n",
        "d_prime_value = compute_d_prime(observations)\n",
        "print(f\"d-prime value: {d_prime_value}\")\n"
      ],
      "metadata": {
        "id": "uxKbKJ4HGcrp",
        "outputId": "c5e05041-10aa-4c53-da26-b1768e84868c",
        "colab": {
          "base_uri": "https://localhost:8080/"
        }
      },
      "execution_count": null,
      "outputs": [
        {
          "output_type": "stream",
          "name": "stdout",
          "text": [
            "d-prime value: 2.13324462836214\n"
          ]
        }
      ]
    },
    {
      "cell_type": "markdown",
      "source": [
        "---\n",
        "## FMR and FNMR Implementation"
      ],
      "metadata": {
        "id": "0lV20stp51yn"
      }
    },
    {
      "cell_type": "code",
      "source": [
        "# Computes FMR from the given similarity observations,\n",
        "# according to the given threshold.\n",
        "# Observations must be an array of (<label>,<score>) elements.\n",
        "# Labels must be either 0 (impostor) or something else (genuine).\n",
        "# If the number of impostors is zero, it returns 'NaN' as FMR.\n",
        "def compute_sim_fmr(observations, threshold):\n",
        "  fmr = float('NaN') # nothing computed, returns not-a-number\n",
        "\n",
        "  # counters\n",
        "  impostor_count = 0\n",
        "  false_match_count = 0\n",
        "\n",
        "  # for each observation\n",
        "  for obs in observations:\n",
        "    if obs[0] == 0:  # impostor\n",
        "      impostor_count = impostor_count + 1\n",
        "      if obs[1] >= threshold:\n",
        "        false_match_count = false_match_count + 1\n",
        "\n",
        "  # FMR computation\n",
        "  if impostor_count > 0:\n",
        "    fmr = false_match_count / impostor_count\n",
        "\n",
        "  return fmr"
      ],
      "metadata": {
        "id": "PoKPxgoK51Nn"
      },
      "execution_count": 1,
      "outputs": []
    },
    {
      "cell_type": "code",
      "source": [
        "# tests FMR computation\n",
        "try:\n",
        "    compute_sim_fmr(None, 0.0)\n",
        "except TypeError:\n",
        "    print(\"FMR calculation won't work on None value.\")\n",
        "\n",
        "try:\n",
        "    compute_sim_fmr([0], 0.0)\n",
        "except TypeError:\n",
        "    print(\"FMR calculation won't work on arrays not containing (<label>,<score>) elements.\")\n",
        "\n",
        "assert not float('-inf') < compute_sim_fmr([], 0.0) < float('inf')  # empty array, not a number\n",
        "assert float('-inf') < compute_sim_fmr([(0, 0.1)], 0.0) < float('inf')  # missing genuine, ok\n",
        "assert not float('-inf') < compute_sim_fmr([(1, 0.1)], 0.0) < float('inf')  # missing impostors, not a number\n",
        "\n",
        "fmr = compute_sim_fmr([(0, 0.1), (0, 0.3), (1, 0.0)], 0.25)\n",
        "assert fmr == 0.5\n",
        "\n",
        "fmr = compute_sim_fmr([(0, 0.1), (0, 0.3), (1, 0.0)], 0.35)\n",
        "assert fmr == 0.0\n",
        "\n",
        "fmr = compute_sim_fmr([(0, 0.1), (0, 0.3), (1, 0.0)], 0.05)\n",
        "assert fmr == 1.0\n"
      ],
      "metadata": {
        "id": "WZeC6Fa07n-t",
        "colab": {
          "base_uri": "https://localhost:8080/"
        },
        "outputId": "9e9589eb-2a64-46e3-e545-f5db466e087a"
      },
      "execution_count": 2,
      "outputs": [
        {
          "output_type": "stream",
          "name": "stdout",
          "text": [
            "FMR calculation won't work on None value.\n",
            "FMR calculation won't work on arrays not containing (<label>,<score>) elements.\n"
          ]
        }
      ]
    },
    {
      "cell_type": "markdown",
      "source": [
        "---\n",
        "### Exercise 2\n",
        "What is the meaning of the threshold?"
      ],
      "metadata": {
        "id": "qhAnGyik9qDk"
      }
    },
    {
      "cell_type": "markdown",
      "source": [
        "*Add your explanation here:*\n",
        "The threshold in FMR calculation is a critical value that determines whether a similarity score is considered a false match.\n",
        "\n",
        "points\n",
        "\n",
        "1. Purpose: Classifies impostor scores as false matches or correct rejections.\n",
        "\n",
        "2. FMR Calculation: Ratio of false matches to total impostor attempts.\n",
        "\n",
        "3. Threshold Effect\n",
        "   - Lower threshold: Higher FMR, more permissive\n",
        "   - Higher threshold: Lower FMR, stricter security\n",
        "\n",
        "4. Security Impact\n",
        "   - High threshold: Reduces false matches but may increase genuine rejections\n",
        "   - Low threshold: More user-friendly but increases security risks\n",
        "\n",
        "5. Operational Use: Chosen to balance security (low FMR) and usability (low FRR) based on system requirements.\n",
        "\n",
        "---"
      ],
      "metadata": {
        "id": "TDg3RbNLGDJA"
      }
    },
    {
      "cell_type": "code",
      "source": [
        "# Computes FNMR from the given similarity observations,\n",
        "# according to the given threshold.\n",
        "# Observations must be an array of (<label>,<score>) elements.\n",
        "# Labels must be either 0 (impostor) or something else (genuine).\n",
        "# If the number of genuine observations is zero, it returns 'NaN' as FNMR.\n",
        "def compute_sim_fnmr(observations, threshold):\n",
        "  fnmr = float('NaN') # nothing computed, returns not-a-number\n",
        "\n",
        "  # counters\n",
        "  genuine_count = 0\n",
        "  false_non_match_count = 0\n",
        "\n",
        "  # for each observation\n",
        "  for obs in observations:\n",
        "    if obs[0] != 0:  # genuine observation\n",
        "      genuine_count = genuine_count + 1\n",
        "\n",
        "      if obs[1] < threshold:\n",
        "        false_non_match_count = false_non_match_count + 1\n",
        "\n",
        "  # FNMR computation\n",
        "  if genuine_count > 0:\n",
        "    fnmr = false_non_match_count / genuine_count\n",
        "\n",
        "  return fnmr"
      ],
      "metadata": {
        "id": "WgsSrHo79rRa"
      },
      "execution_count": 3,
      "outputs": []
    },
    {
      "cell_type": "code",
      "source": [
        "# tests FNMR computation\n",
        "try:\n",
        "    compute_sim_fnmr(None, 0.0)\n",
        "except TypeError:\n",
        "    print(\"FNMR calculation won't work on None value.\")\n",
        "\n",
        "try:\n",
        "    compute_sim_fnmr([0], 0.0)\n",
        "except TypeError:\n",
        "    print(\"FNMR calculation won't work on arrays not containing (<label>,<score>) elements.\")\n",
        "\n",
        "assert not float('-inf') < compute_sim_fnmr([], 0.0) < float('inf')  # empty array, not a number\n",
        "assert not float('-inf') < compute_sim_fnmr([(0, 0.1)], 0.0) < float('inf')  # missing genuine, not a number\n",
        "assert float('-inf') < compute_sim_fnmr([(1, 0.1)], 0.0) < float('inf')  # missing impostors, ok\n",
        "\n",
        "fnmr = compute_sim_fnmr([(0, 0.0), (1, 0.1), (1, 0.3)], 0.25)\n",
        "assert fnmr == 0.5\n",
        "\n",
        "fnmr = compute_sim_fnmr([(0, 0.0), (1, 0.1), (1, 0.3)], 0.5)\n",
        "assert fnmr == 1.0\n",
        "\n",
        "fnmr = compute_sim_fnmr([(0, 0.0), (1, 0.1), (1, 0.3)], 0.05)\n",
        "assert fnmr == 0.0"
      ],
      "metadata": {
        "id": "1ryWINm7_I9h",
        "colab": {
          "base_uri": "https://localhost:8080/"
        },
        "outputId": "2372fc56-5047-44c8-b1d4-5d704c1ae027"
      },
      "execution_count": 4,
      "outputs": [
        {
          "output_type": "stream",
          "name": "stdout",
          "text": [
            "FNMR calculation won't work on None value.\n",
            "FNMR calculation won't work on arrays not containing (<label>,<score>) elements.\n"
          ]
        }
      ]
    },
    {
      "cell_type": "markdown",
      "source": [
        "---"
      ],
      "metadata": {
        "id": "r_MgdAkqAGBq"
      }
    },
    {
      "cell_type": "code",
      "source": [
        "# Computes FNMR and FMR at EER from the given similarity observations.\n",
        "# Observations must be an array of (<label>,<score>) elements.\n",
        "# Labels must be either 0 (impostor) or something else (genuine).\n",
        "# Output: FNMR, FMR, EER_THRESHOLD.\n",
        "# If either the number of impostors or genuine observations is zero,\n",
        "# it returns 'NaN', 'NaN', 'NaN'.\n",
        "def compute_sim_fmr_fnmr_eer(observations):\n",
        "    # computed FNMR and FMR at EER, and EER threshold\n",
        "    output_fnmr = float('NaN') # nothing computed, returns not-a-number\n",
        "    output_fmr = float('NaN')\n",
        "    output_threshold = float('NaN')\n",
        "\n",
        "    # holds the difference between FMR and FNMR\n",
        "    fnmr_fmr_diff = float('inf') # a very large float\n",
        "\n",
        "    # sorted list of scores\n",
        "    scores = sorted([obs[1] for obs in observations])\n",
        "    if len(scores) > 0:\n",
        "      # for each score taken as threshold\n",
        "      for threshold in scores:\n",
        "        current_fnmr = compute_sim_fnmr(observations, threshold)\n",
        "        current_fmr = compute_sim_fmr(observations, threshold)\n",
        "\n",
        "        # cancels computation if any of the FNMR or FMR values are 'NaN' (impossible to compute them)\n",
        "        if not float('-inf') < current_fnmr < float('inf') or not float('-inf') < current_fmr < float('inf'):\n",
        "          break\n",
        "\n",
        "        # updates the difference between FNMR and FMR, if it is the case\n",
        "        current_diff = abs(current_fnmr - current_fmr)\n",
        "        if current_diff <= fnmr_fmr_diff:\n",
        "          fnmr_fmr_diff = current_diff\n",
        "\n",
        "          # updates current values\n",
        "          output_fnmr = current_fnmr\n",
        "          output_fmr = current_fmr\n",
        "          output_threshold = threshold\n",
        "\n",
        "        else:\n",
        "          # difference will start to increase, nothing to do anymore\n",
        "          break\n",
        "\n",
        "    return output_fnmr, output_fmr, output_threshold"
      ],
      "metadata": {
        "id": "9ezMzHouAHaf"
      },
      "execution_count": 5,
      "outputs": []
    },
    {
      "cell_type": "code",
      "source": [
        "# tests FNMR and FMR at EER\n",
        "try:\n",
        "    compute_sim_fmr_fnmr_eer(None)\n",
        "except TypeError:\n",
        "    print(\"FNMR, FMR @ EER calculation won't work on None value.\")\n",
        "\n",
        "try:\n",
        "    compute_sim_fmr_fnmr_eer([0])\n",
        "except TypeError:\n",
        "    print(\"FNMR, FMR @ EER calculation won't work on arrays not containing (<label>,<score>) elements.\")\n",
        "\n",
        "assert not float('-inf') < compute_sim_fmr_fnmr_eer([])[0] < float('inf')  # empty array, not a number\n",
        "assert not float('-inf') < compute_sim_fmr_fnmr_eer([])[1] < float('inf')  # empty array, not a number\n",
        "assert not float('-inf') < compute_sim_fmr_fnmr_eer([])[2] < float('inf')  # empty array, not a number\n",
        "\n",
        "assert not float('-inf') < compute_sim_fmr_fnmr_eer([(0, 0.1)])[0] < float('inf')  # missing genuine, nan\n",
        "assert not float('-inf') < compute_sim_fmr_fnmr_eer([(0, 0.1)])[1] < float('inf')  # missing genuine, nan\n",
        "assert not float('-inf') < compute_sim_fmr_fnmr_eer([(0, 0.1)])[2] < float('inf')  # missing genuine, nan\n",
        "\n",
        "assert not float('-inf') < compute_sim_fmr_fnmr_eer([(1, 0.1)])[0] < float('inf')  # missing impostors, nan\n",
        "assert not float('-inf') < compute_sim_fmr_fnmr_eer([(1, 0.1)])[1] < float('inf')  # missing impostors, nan\n",
        "assert not float('-inf') < compute_sim_fmr_fnmr_eer([(1, 0.1)])[2] < float('inf')  # missing impostors, nan\n",
        "\n",
        "fnmr, fmr, eer = compute_sim_fmr_fnmr_eer([(0, 0.2), (0, 0.3), (0, 0.4), (1, 0.5), (1, 0.6), (1, 0.7)])\n",
        "assert fnmr == 0.0\n",
        "assert fmr == 0.0\n",
        "assert eer == 0.5"
      ],
      "metadata": {
        "id": "2AW32J0lEgyQ",
        "colab": {
          "base_uri": "https://localhost:8080/"
        },
        "outputId": "9a1e7826-fb90-4921-de5b-4eceb9175c77"
      },
      "execution_count": 6,
      "outputs": [
        {
          "output_type": "stream",
          "name": "stdout",
          "text": [
            "FNMR, FMR @ EER calculation won't work on None value.\n",
            "FNMR, FMR @ EER calculation won't work on arrays not containing (<label>,<score>) elements.\n"
          ]
        }
      ]
    },
    {
      "cell_type": "markdown",
      "source": [
        "---\n",
        "### Exercise 3\n",
        "Compute FNMR and FMR at EER for the content of <code>/content/test.csv</code>."
      ],
      "metadata": {
        "id": "wX-xABzQFnIU"
      }
    },
    {
      "cell_type": "code",
      "source": [
        "from typing import List, Tuple, Union\n",
        "import math\n",
        "\n",
        "def compute_sim_fmr(observations: List[Tuple[int, float]], threshold: float) -> float:\n",
        "    \"\"\"\n",
        "    Compute False Match Rate (FMR) from given similarity observations.\n",
        "\n",
        "    Args:\n",
        "    observations (List[Tuple[int, float]]): List of tuples (label, similarity_score).\n",
        "                                            Label 0 for impostor, non-zero for genuine.\n",
        "    threshold (float): Similarity threshold for determining false matches.\n",
        "\n",
        "    Returns:\n",
        "    float: Computed FMR, or math.nan if no impostor observations.\n",
        "\n",
        "    Raises:\n",
        "    ValueError: If observations is empty or contains invalid data.\n",
        "    \"\"\"\n",
        "    if not observations:\n",
        "        raise ValueError(\"Observations list cannot be empty\")\n",
        "\n",
        "    impostor_count = 0\n",
        "    false_match_count = 0\n",
        "\n",
        "    for label, score in observations:\n",
        "        if not isinstance(label, int) or not isinstance(score, (int, float)):\n",
        "            raise ValueError(\"Invalid observation format\")\n",
        "\n",
        "        if label == 0:  # impostor\n",
        "            impostor_count += 1\n",
        "            if score >= threshold:\n",
        "                false_match_count += 1\n",
        "\n",
        "    return false_match_count / impostor_count if impostor_count > 0 else math.nan\n",
        "\n",
        "def run_tests():\n",
        "    \"\"\"Run a series of tests on the compute_sim_fmr function.\"\"\"\n",
        "\n",
        "    # Test cases\n",
        "    test_cases = [\n",
        "        ([], 0.0, ValueError),\n",
        "        ([(0, 0.1)], 0.0, float),\n",
        "        ([(1, 0.1)], 0.0, float),\n",
        "        ([(0, 0.1), (0, 0.3), (1, 0.0)], 0.25, lambda x: x == 0.5),\n",
        "        ([(0, 0.1), (0, 0.3), (1, 0.0)], 0.35, lambda x: x == 0.0),\n",
        "        ([(0, 0.1), (0, 0.3), (1, 0.0)], 0.05, lambda x: x == 1.0),\n",
        "        ([(0, \"invalid\")], 0.0, ValueError),\n",
        "    ]\n",
        "\n",
        "    for i, (obs, thresh, expected) in enumerate(test_cases, 1):\n",
        "        try:\n",
        "            result = compute_sim_fmr(obs, thresh)\n",
        "            if isinstance(expected, type):\n",
        "                print(f\"Test {i} FAILED: Expected {expected.__name__}, but no exception was raised.\")\n",
        "            elif callable(expected):\n",
        "                assert expected(result), f\"Test {i} FAILED: Unexpected result {result}\"\n",
        "                print(f\"Test {i} PASSED\")\n",
        "            else:\n",
        "                print(f\"Test {i} PASSED\")\n",
        "        except Exception as e:\n",
        "            if isinstance(expected, type) and isinstance(e, expected):\n",
        "                print(f\"Test {i} PASSED\")\n",
        "            else:\n",
        "                print(f\"Test {i} FAILED: {type(e).__name__} - {str(e)}\")\n",
        "\n",
        "if __name__ == \"__main__\":\n",
        "    run_tests()"
      ],
      "metadata": {
        "colab": {
          "base_uri": "https://localhost:8080/"
        },
        "id": "MDXzjD4nUhSu",
        "outputId": "a055a416-3bff-4d8a-e56c-84dc8cba5467"
      },
      "execution_count": 15,
      "outputs": [
        {
          "output_type": "stream",
          "name": "stdout",
          "text": [
            "Test 1 PASSED\n",
            "Test 2 FAILED: Expected float, but no exception was raised.\n",
            "Test 3 FAILED: Expected float, but no exception was raised.\n",
            "Test 4 PASSED\n",
            "Test 5 PASSED\n",
            "Test 6 PASSED\n",
            "Test 7 PASSED\n"
          ]
        }
      ]
    },
    {
      "cell_type": "code",
      "source": [
        "# Computes FMR x TMR (a.k.a. 1.0 - FNMR) AUC from the given similarity observations.\n",
        "# Observations must be an array of (<label>,<score>) elements.\n",
        "# Labels must be either 0 (impostor) or something else (genuine).\n",
        "# Output: AUC, array with FMR values, array with TMR values.\n",
        "# If either the number of impostors or genuine observations is zero, it returns 'NaN', [], [].\n",
        "def compute_sim_fmr_tmr_auc(observations):\n",
        "    # output values\n",
        "    auc = float('NaN') # nothing computed, returns not-a-number\n",
        "    fmrs = []\n",
        "    tmrs = []\n",
        "\n",
        "    # sorted list of scores\n",
        "    scores = sorted([obs[1] for obs in observations])\n",
        "    if len(scores) > 0:\n",
        "      # for each score taken as a threshold\n",
        "      for threshold in scores:\n",
        "        current_fmr = compute_sim_fmr(observations, threshold)\n",
        "        current_fnmr = compute_sim_fnmr(observations, threshold)\n",
        "\n",
        "        # cancels computation if any of the FNMR or FMR values are 'NaN' (impossible to compute them)\n",
        "        if not float('-inf') < current_fmr < float('inf') or not float('-inf') < current_fnmr < float('inf'):\n",
        "          break\n",
        "\n",
        "        # adds the computed values to the proper lists\n",
        "        fmrs.append(current_fmr)\n",
        "        tmrs.append(1.0 - current_fnmr)\n",
        "\n",
        "      # computes the AUC\n",
        "      if len(fmrs) > 0 and len(tmrs) > 0:\n",
        "        # adds the last points on [0.0, 0.0] for completeness\n",
        "        fmrs.append(0.0)\n",
        "        tmrs.append(0.0)\n",
        "\n",
        "        auc_parts = []\n",
        "        for i in range(len(fmrs) - 1):\n",
        "          auc_parts.append(abs(fmrs[i] - fmrs[i + 1]) * (tmrs[i] + tmrs[i + 1]) / 2.0)\n",
        "        auc = _pairwise_sum(auc_parts)\n",
        "\n",
        "    return auc, fmrs, tmrs"
      ],
      "metadata": {
        "id": "xl7UJ9ewHFjq"
      },
      "execution_count": 16,
      "outputs": []
    },
    {
      "cell_type": "code",
      "source": [
        "# tests FMR x FMR AUC\n",
        "try:\n",
        "    compute_sim_fmr_tmr_auc(None)\n",
        "except TypeError:\n",
        "    print(\"FMR x TMR AUC calculation won't work on None value.\")\n",
        "\n",
        "try:\n",
        "    compute_sim_fmr_tmr_auc([0])\n",
        "except TypeError:\n",
        "    print(\"FMR x TMR AUC calculation won't work on arrays not containing (<label>,<score>) elements.\")\n",
        "\n",
        "assert not float('-inf') < compute_sim_fmr_tmr_auc([])[0] < float('inf')  # empty array, not a number\n",
        "assert len(compute_sim_fmr_tmr_auc([])[1]) == 0 # empty array, nothing to do\n",
        "assert len(compute_sim_fmr_tmr_auc([])[2]) == 0 # empty array, nothing to do\n",
        "\n",
        "assert not float('-inf') < compute_sim_fmr_tmr_auc([(0, 0.1)])[0] < float('inf')  # missing genuine, nan\n",
        "assert len(compute_sim_fmr_tmr_auc([(0, 0.1)])[1]) == 0 # missing genuine, nothing to do\n",
        "assert len(compute_sim_fmr_tmr_auc([(0, 0.1)])[2]) == 0 # missing genuine, nothing to do\n",
        "\n",
        "assert not float('-inf') < compute_sim_fmr_tmr_auc([(1, 0.1)])[0] < float('inf')  # missing impostors, nan\n",
        "assert len(compute_sim_fmr_tmr_auc([(1, 0.1)])[1]) == 0 # missing impostors, nothing to do\n",
        "assert len(compute_sim_fmr_tmr_auc([(1, 0.1)])[2]) == 0 # missing impostors, nothing to do\n",
        "\n",
        "auc, fmrs, tmrs = compute_sim_fmr_tmr_auc([(0, 0.2), (0, 0.3), (0, 0.4), (1, 0.5), (1, 0.6), (1, 0.7)])\n",
        "#print(auc)\n",
        "#assert auc == 1.0\n",
        "assert len(fmrs) > 0\n",
        "assert len(tmrs) > 0\n",
        "assert len(fmrs) == len(tmrs)\n",
        "print('AUC:', auc)\n",
        "print('FMR:', fmrs)\n",
        "print('TMR:', tmrs)"
      ],
      "metadata": {
        "id": "QCcEAgF5KBFo",
        "colab": {
          "base_uri": "https://localhost:8080/"
        },
        "outputId": "65c32c57-5e66-448e-ba77-a970746c70fc"
      },
      "execution_count": 19,
      "outputs": [
        {
          "output_type": "stream",
          "name": "stdout",
          "text": [
            "FMR x TMR AUC calculation won't work on None value.\n",
            "FMR x TMR AUC calculation won't work on arrays not containing (<label>,<score>) elements.\n",
            "AUC: 1.0\n",
            "FMR: [1.0, 0.6666666666666666, 0.3333333333333333, 0.0, 0.0, 0.0, 0.0]\n",
            "TMR: [1.0, 1.0, 1.0, 1.0, 0.6666666666666667, 0.33333333333333337, 0.0]\n"
          ]
        }
      ]
    },
    {
      "cell_type": "markdown",
      "source": [
        "---\n",
        "### Exercise 4\n",
        "Compute FMR versus TMR AUC for the content of <code>/content/test.csv</code>."
      ],
      "metadata": {
        "id": "KVix_2j5ME0c"
      }
    },
    {
      "cell_type": "code",
      "source": [
        "import csv\n",
        "from typing import List, Tuple\n",
        "import math\n",
        "\n",
        "def parse_csv_data(csv_content: str) -> List[Tuple[int, float]]:\n",
        "    \"\"\"Parse CSV content and return list of (label, score) tuples.\"\"\"\n",
        "    data = []\n",
        "    for row in csv.reader(csv_content.splitlines()):\n",
        "        if row and not row[0].startswith('#'):\n",
        "            label, score = int(row[0]), float(row[1])\n",
        "            data.append((label, score))\n",
        "    return data\n",
        "\n",
        "def compute_fmr_tmr(data: List[Tuple[int, float]], threshold: float) -> Tuple[float, float]:\n",
        "    \"\"\"Compute FMR and TMR for given threshold.\"\"\"\n",
        "    impostor_count = genuine_count = false_match_count = true_match_count = 0\n",
        "    for label, score in data:\n",
        "        if label == 0:  # impostor\n",
        "            impostor_count += 1\n",
        "            if score >= threshold:\n",
        "                false_match_count += 1\n",
        "        else:  # genuine\n",
        "            genuine_count += 1\n",
        "            if score >= threshold:\n",
        "                true_match_count += 1\n",
        "\n",
        "    fmr = false_match_count / impostor_count if impostor_count > 0 else 0\n",
        "    tmr = true_match_count / genuine_count if genuine_count > 0 else 0\n",
        "    return fmr, tmr\n",
        "\n",
        "def compute_auc(points: List[Tuple[float, float]]) -> float:\n",
        "    \"\"\"Compute AUC using the trapezoid rule.\"\"\"\n",
        "    auc = 0\n",
        "    for i in range(1, len(points)):\n",
        "        x1, y1 = points[i-1]\n",
        "        x2, y2 = points[i]\n",
        "        auc += (x2 - x1) * (y1 + y2) / 2\n",
        "    return auc\n",
        "\n",
        "def compute_fmr_tmr_auc(csv_content: str) -> float:\n",
        "    \"\"\"Compute FMR versus TMR AUC for given CSV content.\"\"\"\n",
        "    data = parse_csv_data(csv_content)\n",
        "\n",
        "    # Get unique thresholds from the data\n",
        "    thresholds = sorted(set(score for _, score in data))\n",
        "\n",
        "    # Compute FMR and TMR for each threshold\n",
        "    fmr_tmr_points = [compute_fmr_tmr(data, threshold) for threshold in thresholds]\n",
        "\n",
        "    # Sort points by FMR (x-axis) in descending order\n",
        "    fmr_tmr_points.sort(reverse=True)\n",
        "\n",
        "    # Compute AUC\n",
        "    auc = compute_auc(fmr_tmr_points)\n",
        "\n",
        "    return auc\n",
        "\n",
        "# Use the function with the provided CSV content\n",
        "csv_content = '''# label [0: impostor, 1: genuine], score\n",
        "# impostor samples\n",
        "0,0.1056\n",
        "0,0.5825\n",
        "...\n",
        "1,0.6145\n",
        "1,0.9720'''\n",
        "\n",
        "auc = compute_fmr_tmr_auc(csv_content)\n",
        "print(f\"FMR versus TMR AUC: {auc:.4f}\")"
      ],
      "metadata": {
        "colab": {
          "base_uri": "https://localhost:8080/",
          "height": 339
        },
        "id": "kirBCpEFU9S6",
        "outputId": "08e41e02-abf9-467d-ce94-2f3a4ebf5628"
      },
      "execution_count": 26,
      "outputs": [
        {
          "output_type": "error",
          "ename": "ValueError",
          "evalue": "invalid literal for int() with base 10: '...'",
          "traceback": [
            "\u001b[0;31m---------------------------------------------------------------------------\u001b[0m",
            "\u001b[0;31mValueError\u001b[0m                                Traceback (most recent call last)",
            "\u001b[0;32m<ipython-input-26-b3597d9dbaec>\u001b[0m in \u001b[0;36m<cell line: 67>\u001b[0;34m()\u001b[0m\n\u001b[1;32m     65\u001b[0m 1,0.9720'''\n\u001b[1;32m     66\u001b[0m \u001b[0;34m\u001b[0m\u001b[0m\n\u001b[0;32m---> 67\u001b[0;31m \u001b[0mauc\u001b[0m \u001b[0;34m=\u001b[0m \u001b[0mcompute_fmr_tmr_auc\u001b[0m\u001b[0;34m(\u001b[0m\u001b[0mcsv_content\u001b[0m\u001b[0;34m)\u001b[0m\u001b[0;34m\u001b[0m\u001b[0;34m\u001b[0m\u001b[0m\n\u001b[0m\u001b[1;32m     68\u001b[0m \u001b[0mprint\u001b[0m\u001b[0;34m(\u001b[0m\u001b[0;34mf\"FMR versus TMR AUC: {auc:.4f}\"\u001b[0m\u001b[0;34m)\u001b[0m\u001b[0;34m\u001b[0m\u001b[0;34m\u001b[0m\u001b[0m\n",
            "\u001b[0;32m<ipython-input-26-b3597d9dbaec>\u001b[0m in \u001b[0;36mcompute_fmr_tmr_auc\u001b[0;34m(csv_content)\u001b[0m\n\u001b[1;32m     40\u001b[0m \u001b[0;32mdef\u001b[0m \u001b[0mcompute_fmr_tmr_auc\u001b[0m\u001b[0;34m(\u001b[0m\u001b[0mcsv_content\u001b[0m\u001b[0;34m:\u001b[0m \u001b[0mstr\u001b[0m\u001b[0;34m)\u001b[0m \u001b[0;34m->\u001b[0m \u001b[0mfloat\u001b[0m\u001b[0;34m:\u001b[0m\u001b[0;34m\u001b[0m\u001b[0;34m\u001b[0m\u001b[0m\n\u001b[1;32m     41\u001b[0m     \u001b[0;34m\"\"\"Compute FMR versus TMR AUC for given CSV content.\"\"\"\u001b[0m\u001b[0;34m\u001b[0m\u001b[0;34m\u001b[0m\u001b[0m\n\u001b[0;32m---> 42\u001b[0;31m     \u001b[0mdata\u001b[0m \u001b[0;34m=\u001b[0m \u001b[0mparse_csv_data\u001b[0m\u001b[0;34m(\u001b[0m\u001b[0mcsv_content\u001b[0m\u001b[0;34m)\u001b[0m\u001b[0;34m\u001b[0m\u001b[0;34m\u001b[0m\u001b[0m\n\u001b[0m\u001b[1;32m     43\u001b[0m \u001b[0;34m\u001b[0m\u001b[0m\n\u001b[1;32m     44\u001b[0m     \u001b[0;31m# Get unique thresholds from the data\u001b[0m\u001b[0;34m\u001b[0m\u001b[0;34m\u001b[0m\u001b[0m\n",
            "\u001b[0;32m<ipython-input-26-b3597d9dbaec>\u001b[0m in \u001b[0;36mparse_csv_data\u001b[0;34m(csv_content)\u001b[0m\n\u001b[1;32m      8\u001b[0m     \u001b[0;32mfor\u001b[0m \u001b[0mrow\u001b[0m \u001b[0;32min\u001b[0m \u001b[0mcsv\u001b[0m\u001b[0;34m.\u001b[0m\u001b[0mreader\u001b[0m\u001b[0;34m(\u001b[0m\u001b[0mcsv_content\u001b[0m\u001b[0;34m.\u001b[0m\u001b[0msplitlines\u001b[0m\u001b[0;34m(\u001b[0m\u001b[0;34m)\u001b[0m\u001b[0;34m)\u001b[0m\u001b[0;34m:\u001b[0m\u001b[0;34m\u001b[0m\u001b[0;34m\u001b[0m\u001b[0m\n\u001b[1;32m      9\u001b[0m         \u001b[0;32mif\u001b[0m \u001b[0mrow\u001b[0m \u001b[0;32mand\u001b[0m \u001b[0;32mnot\u001b[0m \u001b[0mrow\u001b[0m\u001b[0;34m[\u001b[0m\u001b[0;36m0\u001b[0m\u001b[0;34m]\u001b[0m\u001b[0;34m.\u001b[0m\u001b[0mstartswith\u001b[0m\u001b[0;34m(\u001b[0m\u001b[0;34m'#'\u001b[0m\u001b[0;34m)\u001b[0m\u001b[0;34m:\u001b[0m\u001b[0;34m\u001b[0m\u001b[0;34m\u001b[0m\u001b[0m\n\u001b[0;32m---> 10\u001b[0;31m             \u001b[0mlabel\u001b[0m\u001b[0;34m,\u001b[0m \u001b[0mscore\u001b[0m \u001b[0;34m=\u001b[0m \u001b[0mint\u001b[0m\u001b[0;34m(\u001b[0m\u001b[0mrow\u001b[0m\u001b[0;34m[\u001b[0m\u001b[0;36m0\u001b[0m\u001b[0;34m]\u001b[0m\u001b[0;34m)\u001b[0m\u001b[0;34m,\u001b[0m \u001b[0mfloat\u001b[0m\u001b[0;34m(\u001b[0m\u001b[0mrow\u001b[0m\u001b[0;34m[\u001b[0m\u001b[0;36m1\u001b[0m\u001b[0;34m]\u001b[0m\u001b[0;34m)\u001b[0m\u001b[0;34m\u001b[0m\u001b[0;34m\u001b[0m\u001b[0m\n\u001b[0m\u001b[1;32m     11\u001b[0m             \u001b[0mdata\u001b[0m\u001b[0;34m.\u001b[0m\u001b[0mappend\u001b[0m\u001b[0;34m(\u001b[0m\u001b[0;34m(\u001b[0m\u001b[0mlabel\u001b[0m\u001b[0;34m,\u001b[0m \u001b[0mscore\u001b[0m\u001b[0;34m)\u001b[0m\u001b[0;34m)\u001b[0m\u001b[0;34m\u001b[0m\u001b[0;34m\u001b[0m\u001b[0m\n\u001b[1;32m     12\u001b[0m     \u001b[0;32mreturn\u001b[0m \u001b[0mdata\u001b[0m\u001b[0;34m\u001b[0m\u001b[0;34m\u001b[0m\u001b[0m\n",
            "\u001b[0;31mValueError\u001b[0m: invalid literal for int() with base 10: '...'"
          ]
        }
      ]
    },
    {
      "cell_type": "markdown",
      "source": [
        "---\n",
        "## Plot Functions"
      ],
      "metadata": {
        "id": "jbet7SXOMXcW"
      }
    },
    {
      "cell_type": "code",
      "source": [
        "# Plots the histograms of the scores of the impostors and of the genuine observations together.\n",
        "# Observations must be an array of (<label>,<score>) elements.\n",
        "# Labels must be either 0 (impostor) or something else (genuine).\n",
        "def plot_hist(observations):\n",
        "    impostors = []\n",
        "    genuine = []\n",
        "\n",
        "    for item in observations:\n",
        "        if item[0] == 0:\n",
        "            impostors.append(item[1])\n",
        "        else:\n",
        "            genuine.append(item[1])\n",
        "\n",
        "    plt.xlabel('score')\n",
        "    plt.ylabel('frequency')\n",
        "\n",
        "    plt.hist(impostors, facecolor='red', alpha=0.5, label='impostor', align='mid')\n",
        "    plt.hist(genuine, facecolor='blue', alpha=0.5, label='genuine', align='mid')\n",
        "    plt.legend(loc='lower right')\n",
        "\n",
        "    d_prime = compute_d_prime(observations)\n",
        "    if float('-inf') < d_prime < float('inf'):\n",
        "        plt.title(\"Score distribution, d'=\" + '{:.2f}'.format(d_prime))\n",
        "    else:\n",
        "        plt.title('Score distribution')\n",
        "\n",
        "    plt.show()"
      ],
      "metadata": {
        "id": "ijjHAQZoMmSd"
      },
      "execution_count": 2,
      "outputs": []
    },
    {
      "cell_type": "code",
      "source": [
        "# histogram plot test 1\n",
        "import matplotlib.pyplot as plt\n",
        "plot_hist([])"
      ],
      "metadata": {
        "id": "IHHqstOoQbU6"
      },
      "execution_count": null,
      "outputs": []
    },
    {
      "cell_type": "code",
      "source": [
        "# histogram plot test 2\n",
        "import matplotlib.pyplot as plt\n",
        "plot_hist([(0, 0.2), (0, 0.3), (0, 0.4), (1, 0.5), (1, 0.6), (1, 0.7)])"
      ],
      "metadata": {
        "id": "aupnZzvoQsf7",
        "colab": {
          "base_uri": "https://localhost:8080/",
          "height": 729
        },
        "outputId": "7b15f3e8-408d-4750-bc7c-ae2880676246"
      },
      "execution_count": 14,
      "outputs": [
        {
          "output_type": "error",
          "ename": "NameError",
          "evalue": "name 'compute_d_prime' is not defined",
          "traceback": [
            "\u001b[0;31m---------------------------------------------------------------------------\u001b[0m",
            "\u001b[0;31mNameError\u001b[0m                                 Traceback (most recent call last)",
            "\u001b[0;32m<ipython-input-14-03a1111d1fdb>\u001b[0m in \u001b[0;36m<cell line: 3>\u001b[0;34m()\u001b[0m\n\u001b[1;32m      1\u001b[0m \u001b[0;31m# histogram plot test 2\u001b[0m\u001b[0;34m\u001b[0m\u001b[0;34m\u001b[0m\u001b[0m\n\u001b[1;32m      2\u001b[0m \u001b[0;32mimport\u001b[0m \u001b[0mmatplotlib\u001b[0m\u001b[0;34m.\u001b[0m\u001b[0mpyplot\u001b[0m \u001b[0;32mas\u001b[0m \u001b[0mplt\u001b[0m\u001b[0;34m\u001b[0m\u001b[0;34m\u001b[0m\u001b[0m\n\u001b[0;32m----> 3\u001b[0;31m \u001b[0mplot_hist\u001b[0m\u001b[0;34m(\u001b[0m\u001b[0;34m[\u001b[0m\u001b[0;34m(\u001b[0m\u001b[0;36m0\u001b[0m\u001b[0;34m,\u001b[0m \u001b[0;36m0.2\u001b[0m\u001b[0;34m)\u001b[0m\u001b[0;34m,\u001b[0m \u001b[0;34m(\u001b[0m\u001b[0;36m0\u001b[0m\u001b[0;34m,\u001b[0m \u001b[0;36m0.3\u001b[0m\u001b[0;34m)\u001b[0m\u001b[0;34m,\u001b[0m \u001b[0;34m(\u001b[0m\u001b[0;36m0\u001b[0m\u001b[0;34m,\u001b[0m \u001b[0;36m0.4\u001b[0m\u001b[0;34m)\u001b[0m\u001b[0;34m,\u001b[0m \u001b[0;34m(\u001b[0m\u001b[0;36m1\u001b[0m\u001b[0;34m,\u001b[0m \u001b[0;36m0.5\u001b[0m\u001b[0;34m)\u001b[0m\u001b[0;34m,\u001b[0m \u001b[0;34m(\u001b[0m\u001b[0;36m1\u001b[0m\u001b[0;34m,\u001b[0m \u001b[0;36m0.6\u001b[0m\u001b[0;34m)\u001b[0m\u001b[0;34m,\u001b[0m \u001b[0;34m(\u001b[0m\u001b[0;36m1\u001b[0m\u001b[0;34m,\u001b[0m \u001b[0;36m0.7\u001b[0m\u001b[0;34m)\u001b[0m\u001b[0;34m]\u001b[0m\u001b[0;34m)\u001b[0m\u001b[0;34m\u001b[0m\u001b[0;34m\u001b[0m\u001b[0m\n\u001b[0m",
            "\u001b[0;32m<ipython-input-2-a3115aa1bf62>\u001b[0m in \u001b[0;36mplot_hist\u001b[0;34m(observations)\u001b[0m\n\u001b[1;32m     19\u001b[0m     \u001b[0mplt\u001b[0m\u001b[0;34m.\u001b[0m\u001b[0mlegend\u001b[0m\u001b[0;34m(\u001b[0m\u001b[0mloc\u001b[0m\u001b[0;34m=\u001b[0m\u001b[0;34m'lower right'\u001b[0m\u001b[0;34m)\u001b[0m\u001b[0;34m\u001b[0m\u001b[0;34m\u001b[0m\u001b[0m\n\u001b[1;32m     20\u001b[0m \u001b[0;34m\u001b[0m\u001b[0m\n\u001b[0;32m---> 21\u001b[0;31m     \u001b[0md_prime\u001b[0m \u001b[0;34m=\u001b[0m \u001b[0mcompute_d_prime\u001b[0m\u001b[0;34m(\u001b[0m\u001b[0mobservations\u001b[0m\u001b[0;34m)\u001b[0m\u001b[0;34m\u001b[0m\u001b[0;34m\u001b[0m\u001b[0m\n\u001b[0m\u001b[1;32m     22\u001b[0m     \u001b[0;32mif\u001b[0m \u001b[0mfloat\u001b[0m\u001b[0;34m(\u001b[0m\u001b[0;34m'-inf'\u001b[0m\u001b[0;34m)\u001b[0m \u001b[0;34m<\u001b[0m \u001b[0md_prime\u001b[0m \u001b[0;34m<\u001b[0m \u001b[0mfloat\u001b[0m\u001b[0;34m(\u001b[0m\u001b[0;34m'inf'\u001b[0m\u001b[0;34m)\u001b[0m\u001b[0;34m:\u001b[0m\u001b[0;34m\u001b[0m\u001b[0;34m\u001b[0m\u001b[0m\n\u001b[1;32m     23\u001b[0m         \u001b[0mplt\u001b[0m\u001b[0;34m.\u001b[0m\u001b[0mtitle\u001b[0m\u001b[0;34m(\u001b[0m\u001b[0;34m\"Score distribution, d'=\"\u001b[0m \u001b[0;34m+\u001b[0m \u001b[0;34m'{:.2f}'\u001b[0m\u001b[0;34m.\u001b[0m\u001b[0mformat\u001b[0m\u001b[0;34m(\u001b[0m\u001b[0md_prime\u001b[0m\u001b[0;34m)\u001b[0m\u001b[0;34m)\u001b[0m\u001b[0;34m\u001b[0m\u001b[0;34m\u001b[0m\u001b[0m\n",
            "\u001b[0;31mNameError\u001b[0m: name 'compute_d_prime' is not defined"
          ]
        },
        {
          "output_type": "display_data",
          "data": {
            "text/plain": [
              "<Figure size 640x480 with 1 Axes>"
            ],
            "image/png": "[encoded data removed]"
          },
          "metadata": {}
        }
      ]
    },
    {
      "cell_type": "markdown",
      "source": [
        "---\n",
        "### Exercise 5\n",
        "Plot the histogram for the content of <code>/content/test.csv</code>."
      ],
      "metadata": {
        "id": "vW13NNlZQdad"
      }
    },
    {
      "cell_type": "markdown",
      "source": [],
      "metadata": {
        "id": "kRt4zF89h1oa"
      }
    },
    {
      "cell_type": "code",
      "source": [
        "import csv\n",
        "from typing import List, Tuple\n",
        "import matplotlib.pyplot as plt\n",
        "\n",
        "def parse_csv_data(csv_content: str) -> List[Tuple[int, float]]:\n",
        "    \"\"\"Parse CSV content and return list of (label, score) tuples.\"\"\"\n",
        "    data = []\n",
        "    for row in csv.reader(csv_content.splitlines()):\n",
        "        if row and not row[0].startswith('#'):\n",
        "            label, score = int(row[0]), float(row[1])\n",
        "            data.append((label, score))\n",
        "    return data\n",
        "\n",
        "def plot_histogram(csv_content: str):\n",
        "    \"\"\"Plot histogram for impostor and genuine scores.\"\"\"\n",
        "    data = parse_csv_data(csv_content)\n",
        "\n",
        "    impostor_scores = [score for label, score in data if label == 0]\n",
        "    genuine_scores = [score for label, score in data if label == 1]\n",
        "\n",
        "    plt.figure(figsize=(10, 6))\n",
        "    plt.hist(impostor_scores, bins=20, alpha=0.5, label='Impostor', color='red')\n",
        "    plt.hist(genuine_scores, bins=20, alpha=0.5, label='Genuine', color='green')\n",
        "\n",
        "    plt.xlabel('Similarity Score')\n",
        "    plt.ylabel('Frequency')\n",
        "    plt.title('Histogram of Similarity Scores')\n",
        "    plt.legend()\n",
        "    plt.grid(True, alpha=0.3)\n",
        "\n",
        "    plt.tight_layout()\n",
        "    plt.show()\n",
        "\n",
        "# CSV content (truncated for brevity)\n",
        "csv_content = '''# label [0: impostor, 1: genuine], score\n",
        "# impostor samples\n",
        "0,0.1056\n",
        "0,0.5825\n",
        "0,0.2929\n",
        "# ... (rest of the data)\n",
        "1,0.6145\n",
        "1,0.9720'''\n",
        "\n",
        "# Plot the histogram\n",
        "plot_histogram(csv_content)"
      ],
      "metadata": {
        "id": "gZvQQtWPQeqd",
        "colab": {
          "base_uri": "https://localhost:8080/",
          "height": 528
        },
        "outputId": "5115c7d9-334f-4bbb-cd28-ab9cada6f506"
      },
      "execution_count": 23,
      "outputs": [
        {
          "output_type": "display_data",
          "data": {
            "text/plain": [
              "<Figure size 1000x600 with 1 Axes>"
            ],
            "image/png": "[encoded data removed]"
          },
          "metadata": {}
        }
      ]
    },
    {
      "cell_type": "markdown",
      "source": [
        "---"
      ],
      "metadata": {
        "id": "rt7hUArnQafU"
      }
    },
    {
      "cell_type": "code",
      "source": [
        "# Plots the FMR x TMR AUC from the given similarity observations.\n",
        "# Observations must be an array of (<label>,<score>) elements.\n",
        "# Labels must be either 0 (impostor) or something else (genuine).\n",
        "def plot_sim_fmr_tmr_auc(observations):\n",
        "    plt.xlabel('FMR')\n",
        "    plt.ylabel('TMR')\n",
        "\n",
        "    auc, fmrs, tmrs = compute_sim_fmr_tmr_auc(observations)\n",
        "    if float('-inf') < auc < float('inf'):\n",
        "        plt.plot(fmrs, tmrs, label='AUC: ' + '{:.2f}'.format(auc))\n",
        "        plt.plot([0, 1], [0, 1], color='gray', linestyle='--')\n",
        "        plt.legend(loc='lower right')\n",
        "\n",
        "    plt.title('ROC curve')\n",
        "    plt.show()"
      ],
      "metadata": {
        "id": "KXl7-FoaQ3s9"
      },
      "execution_count": 5,
      "outputs": []
    },
    {
      "cell_type": "code",
      "source": [
        "# AUC plot test 1\n",
        "import matplotlib.pyplot as plt\n",
        "plot_sim_fmr_tmr_auc([])"
      ],
      "metadata": {
        "id": "b1_UYrrbRKTw"
      },
      "execution_count": null,
      "outputs": []
    },
    {
      "cell_type": "code",
      "source": [
        "# AUC plot test 2\n",
        "import matplotlib.pyplot as plt\n",
        "plot_sim_fmr_tmr_auc([(0, 0.2), (0, 0.3), (0, 0.4), (1, 0.5), (1, 0.6), (1, 0.7)])\n",
        "\n"
      ],
      "metadata": {
        "id": "1VWcLRcJRpUb",
        "colab": {
          "base_uri": "https://localhost:8080/",
          "height": 472
        },
        "outputId": "7624ba92-a7e8-4439-c328-d580999bf7ad"
      },
      "execution_count": 24,
      "outputs": [
        {
          "output_type": "display_data",
          "data": {
            "text/plain": [
              "<Figure size 640x480 with 1 Axes>"
            ],
            "image/png": "[encoded data removed]"
          },
          "metadata": {}
        }
      ]
    },
    {
      "cell_type": "markdown",
      "source": [
        "---\n",
        "### Exercise 6\n",
        "Plot the AUC for the content of <code>/content/test.csv</code>."
      ],
      "metadata": {
        "id": "OXtuR7a0R7uj"
      }
    },
    {
      "cell_type": "code",
      "source": [
        "# add you code here\n",
        "import csv\n",
        "from typing import List, Tuple\n",
        "import matplotlib.pyplot as plt\n",
        "import numpy as np\n",
        "\n",
        "def parse_csv_data(csv_content: str) -> List[Tuple[int, float]]:\n",
        "    \"\"\"Parse CSV content and return list of (label, score) tuples.\"\"\"\n",
        "    data = []\n",
        "    for row in csv.reader(csv_content.splitlines()):\n",
        "        if row and not row[0].startswith('#'):\n",
        "            label, score = int(row[0]), float(row[1])\n",
        "            data.append((label, score))\n",
        "    return data\n",
        "\n",
        "def compute_fmr_tmr(data: List[Tuple[int, float]], threshold: float) -> Tuple[float, float]:\n",
        "    \"\"\"Compute FMR and TMR for given threshold.\"\"\"\n",
        "    impostor_count = genuine_count = false_match_count = true_match_count = 0\n",
        "    for label, score in data:\n",
        "        if label == 0:  # impostor\n",
        "            impostor_count += 1\n",
        "            if score >= threshold:\n",
        "                false_match_count += 1\n",
        "        else:  # genuine\n",
        "            genuine_count += 1\n",
        "            if score >= threshold:\n",
        "                true_match_count += 1\n",
        "\n",
        "    fmr = false_match_count / impostor_count if impostor_count > 0 else 0\n",
        "    tmr = true_match_count / genuine_count if genuine_count > 0 else 0\n",
        "    return fmr, tmr\n",
        "\n",
        "def compute_auc(fmr_tmr_points: List[Tuple[float, float]]) -> float:\n",
        "    \"\"\"Compute AUC using the trapezoid rule.\"\"\"\n",
        "    auc = 0\n",
        "    for i in range(1, len(fmr_tmr_points)):\n",
        "        x1, y1 = fmr_tmr_points[i-1]\n",
        "        x2, y2 = fmr_tmr_points[i]\n",
        "        auc += (x1 - x2) * (y1 + y2) / 2  # Note: x1 - x2 because FMR is in descending order\n",
        "    return auc\n",
        "\n",
        "def plot_roc_auc(csv_content: str):\n",
        "    \"\"\"Plot ROC curve and calculate AUC.\"\"\"\n",
        "    data = parse_csv_data(csv_content)\n",
        "\n",
        "    # Get unique thresholds from the data\n",
        "    thresholds = sorted(set(score for _, score in data))\n",
        "\n",
        "    # Compute FMR and TMR for each threshold\n",
        "    fmr_tmr_points = [compute_fmr_tmr(data, threshold) for threshold in thresholds]\n",
        "\n",
        "    # Sort points by FMR (x-axis) in descending order\n",
        "    fmr_tmr_points.sort(reverse=True)\n",
        "\n",
        "    # Separate FMR and TMR for plotting\n",
        "    fmr, tmr = zip(*fmr_tmr_points)\n",
        "\n",
        "    # Compute AUC\n",
        "    auc = compute_auc(fmr_tmr_points)\n",
        "\n",
        "    # Plotting\n",
        "    plt.figure(figsize=(8, 8))\n",
        "    plt.plot(fmr, tmr, 'b-', label=f'ROC (AUC = {auc:.4f})')\n",
        "    plt.plot([0, 1], [0, 1], 'r--', label='Random Classifier')\n",
        "    plt.xlabel('False Match Rate (FMR)')\n",
        "    plt.ylabel('True Match Rate (TMR)')\n",
        "    plt.title('Receiver Operating Characteristic (ROC) Curve')\n",
        "    plt.legend()\n",
        "    plt.grid(True, alpha=0.3)\n",
        "\n",
        "    plt.tight_layout()\n",
        "    plt.show()\n",
        "\n",
        "    print(f\"AUC: {auc:.4f}\")\n",
        "\n",
        "# CSV content (truncated for brevity)\n",
        "csv_content = '''# label [0: impostor, 1: genuine], score\n",
        "# impostor samples\n",
        "0,0.1056\n",
        "0,0.5825\n",
        "0,0.2929\n",
        "# ... (rest of the data)\n",
        "1,0.6145\n",
        "1,0.9720'''\n",
        "\n",
        "# Plot the ROC curve and calculate AUC\n",
        "plot_roc_auc(csv_content)"
      ],
      "metadata": {
        "id": "jW2syKiIR4R2",
        "colab": {
          "base_uri": "https://localhost:8080/",
          "height": 824
        },
        "outputId": "a0f5710b-1293-4ffe-bc60-ba65e0a1ec0a"
      },
      "execution_count": 25,
      "outputs": [
        {
          "output_type": "display_data",
          "data": {
            "text/plain": [
              "<Figure size 800x800 with 1 Axes>"
            ],
            "image/png": "[encoded data removed]"
          },
          "metadata": {}
        },
        {
          "output_type": "stream",
          "name": "stdout",
          "text": [
            "AUC: 1.0000\n"
          ]
        }
      ]
    },
    {
      "cell_type": "markdown",
      "source": [
        "---"
      ],
      "metadata": {
        "id": "5iUPetcSSAAd"
      }
    }
  ]
}
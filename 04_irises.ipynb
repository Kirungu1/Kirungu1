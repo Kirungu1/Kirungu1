{
  "nbformat": 4,
  "nbformat_minor": 0,
  "metadata": {
    "colab": {
      "provenance": [],
      "toc_visible": true,
      "include_colab_link": true
    },
    "kernelspec": {
      "name": "python3",
      "display_name": "Python 3"
    },
    "language_info": {
      "name": "python"
    }
  },
  "cells": [
    {
      "cell_type": "markdown",
      "metadata": {
        "id": "view-in-github",
        "colab_type": "text"
      },
      "source": [
        "<a href=\"https://colab.research.google.com/github/Kirungu1/Kirungu1/blob/main/04_irises.ipynb\" target=\"_parent\"><img src=\"https://colab.research.google.com/assets/colab-badge.svg\" alt=\"Open In Colab\"/></a>"
      ]
    },
    {
      "cell_type": "markdown",
      "source": [
        "\n",
        "\n",
        "Simple implementation of iris recognition based on Domain-specific Human-inspired Binarized Statistical Image Features (DHBSIF), peer-reviewed and published [here](https://ieeexplore.ieee.org/document/8658238).  \n",
        "\n",
        "Language: Python 3  \n",
        "\n",
        "Needed libraries:\n",
        "* NumPy (https://numpy.org/)\n",
        "* matplotlib (https://matplotlib.org/)\n",
        "* OpenCV (https://opencv.org/)\n",
        "* SciPy (https://scipy.org/)"
      ],
      "metadata": {
        "id": "W2h79Hrpn2yV"
      }
    },
    {
      "cell_type": "markdown",
      "source": [
        "## Needed libraries and files"
      ],
      "metadata": {
        "id": "GFbH4mo7v2QR"
      }
    },
    {
      "cell_type": "code",
      "source": [
        "# download of iris files for proper tests\n",
        "!pip install gdown\n",
        "!gdown 18czPqnf4cqxIPEXo0Mz1xi5IPHEWaGMR\n",
        "!gdown 1AzZCeFEIPYLKCelNLvickiI2qWjJ12Eg\n",
        "!gdown 1rsQNGzHRdBXMj0Ebt6irRRFA6cuPke4h\n",
        "!gdown 1rSUP6ADFuaIr_XxAh72qtvsieKSqOwS2"
      ],
      "metadata": {
        "id": "4so07XqKn2UE"
      },
      "execution_count": null,
      "outputs": []
    },
    {
      "cell_type": "code",
      "source": [
        "# download of domain-specific human-inspired BSIF filters\n",
        "!gdown 1IrcAXVCVd_3hBOyQN0rFyxMK6uH0MN73"
      ],
      "metadata": {
        "id": "sOZKOzS4nPKU"
      },
      "execution_count": null,
      "outputs": []
    },
    {
      "cell_type": "code",
      "source": [
        "# imported libraries\n",
        "import numpy as np\n",
        "print('NumPy version', np.__version__)\n",
        "\n",
        "import matplotlib as plt\n",
        "print('Matplotlib version', plt.__version__)\n",
        "\n",
        "import cv2\n",
        "print('OpenCV version', cv2.__version__)\n",
        "\n",
        "import scipy\n",
        "print('SciPy version', scipy.__version__)"
      ],
      "metadata": {
        "id": "NtGDeQHoQbMb",
        "colab": {
          "base_uri": "https://localhost:8080/"
        },
        "outputId": "869bca40-df81-487a-e7d7-03ce7052daf9"
      },
      "execution_count": 10,
      "outputs": [
        {
          "output_type": "stream",
          "name": "stdout",
          "text": [
            "NumPy version 1.26.4\n",
            "Matplotlib version 3.7.1\n",
            "OpenCV version 4.10.0\n",
            "SciPy version 1.13.1\n"
          ]
        }
      ]
    },
    {
      "cell_type": "markdown",
      "source": [
        "--------------------------\n",
        "## Iris acquisition"
      ],
      "metadata": {
        "id": "c0XQVqN-O90F"
      }
    },
    {
      "cell_type": "markdown",
      "source": [
        "### Main function"
      ],
      "metadata": {
        "id": "cQI1_EPdeyl9"
      }
    },
    {
      "cell_type": "code",
      "source": [
        "# Acquires an iris from an image file, given its path.\n",
        "# Parameters:\n",
        "# <file_path> - The path to the image file containing the iris.\n",
        "# <view> - True if the loaded image must be shown, False otherwise.\n",
        "# Returns the obtained image as a numpy 2D uint8 array.\n",
        "def acquire_from_file(file_path, view=False):\n",
        "    # reads the image from the given file path\n",
        "    # and returns it\n",
        "    iris = cv2.imread(file_path)\n",
        "\n",
        "    # shows the read image, if it is the case\n",
        "    if view:\n",
        "        plt.pyplot.imshow(cv2.cvtColor(iris, cv2.COLOR_BGR2RGB))\n",
        "        plt.pyplot.title('Iris acquisition')\n",
        "        plt.pyplot.show()\n",
        "\n",
        "    return iris"
      ],
      "metadata": {
        "id": "0YBC6wwrPZU-"
      },
      "execution_count": 38,
      "outputs": []
    },
    {
      "cell_type": "code",
      "source": [
        "# tests the iris acquisition\n",
        "iris_1 = acquire_from_file('/content/eye_011.png', view=True)\n",
        "print('Image resolution:', iris_1.shape, '\\n')\n",
        "\n",
        "iris_2 = acquire_from_file('/content/eye_012.png', view=True)\n",
        "print('Image resolution:', iris_2.shape)"
      ],
      "metadata": {
        "id": "tO5FGJEFQZfu",
        "colab": {
          "base_uri": "https://localhost:8080/",
          "height": 332
        },
        "outputId": "5cf5aa62-184e-497e-fac4-447007c63423"
      },
      "execution_count": 39,
      "outputs": [
        {
          "output_type": "error",
          "ename": "AttributeError",
          "evalue": "module 'matplotlib.pyplot' has no attribute 'pyplot'",
          "traceback": [
            "\u001b[0;31m---------------------------------------------------------------------------\u001b[0m",
            "\u001b[0;31mAttributeError\u001b[0m                            Traceback (most recent call last)",
            "\u001b[0;32m<ipython-input-39-74f6ea1e9fe9>\u001b[0m in \u001b[0;36m<cell line: 2>\u001b[0;34m()\u001b[0m\n\u001b[1;32m      1\u001b[0m \u001b[0;31m# tests the iris acquisition\u001b[0m\u001b[0;34m\u001b[0m\u001b[0;34m\u001b[0m\u001b[0m\n\u001b[0;32m----> 2\u001b[0;31m \u001b[0miris_1\u001b[0m \u001b[0;34m=\u001b[0m \u001b[0macquire_from_file\u001b[0m\u001b[0;34m(\u001b[0m\u001b[0;34m'/content/eye_011.png'\u001b[0m\u001b[0;34m,\u001b[0m \u001b[0mview\u001b[0m\u001b[0;34m=\u001b[0m\u001b[0;32mTrue\u001b[0m\u001b[0;34m)\u001b[0m\u001b[0;34m\u001b[0m\u001b[0;34m\u001b[0m\u001b[0m\n\u001b[0m\u001b[1;32m      3\u001b[0m \u001b[0mprint\u001b[0m\u001b[0;34m(\u001b[0m\u001b[0;34m'Image resolution:'\u001b[0m\u001b[0;34m,\u001b[0m \u001b[0miris_1\u001b[0m\u001b[0;34m.\u001b[0m\u001b[0mshape\u001b[0m\u001b[0;34m,\u001b[0m \u001b[0;34m'\\n'\u001b[0m\u001b[0;34m)\u001b[0m\u001b[0;34m\u001b[0m\u001b[0;34m\u001b[0m\u001b[0m\n\u001b[1;32m      4\u001b[0m \u001b[0;34m\u001b[0m\u001b[0m\n\u001b[1;32m      5\u001b[0m \u001b[0miris_2\u001b[0m \u001b[0;34m=\u001b[0m \u001b[0macquire_from_file\u001b[0m\u001b[0;34m(\u001b[0m\u001b[0;34m'/content/eye_012.png'\u001b[0m\u001b[0;34m,\u001b[0m \u001b[0mview\u001b[0m\u001b[0;34m=\u001b[0m\u001b[0;32mTrue\u001b[0m\u001b[0;34m)\u001b[0m\u001b[0;34m\u001b[0m\u001b[0;34m\u001b[0m\u001b[0m\n",
            "\u001b[0;32m<ipython-input-38-06f50f691242>\u001b[0m in \u001b[0;36macquire_from_file\u001b[0;34m(file_path, view)\u001b[0m\n\u001b[1;32m     11\u001b[0m     \u001b[0;31m# shows the read image, if it is the case\u001b[0m\u001b[0;34m\u001b[0m\u001b[0;34m\u001b[0m\u001b[0m\n\u001b[1;32m     12\u001b[0m     \u001b[0;32mif\u001b[0m \u001b[0mview\u001b[0m\u001b[0;34m:\u001b[0m\u001b[0;34m\u001b[0m\u001b[0;34m\u001b[0m\u001b[0m\n\u001b[0;32m---> 13\u001b[0;31m         \u001b[0mplt\u001b[0m\u001b[0;34m.\u001b[0m\u001b[0mpyplot\u001b[0m\u001b[0;34m.\u001b[0m\u001b[0mimshow\u001b[0m\u001b[0;34m(\u001b[0m\u001b[0mcv2\u001b[0m\u001b[0;34m.\u001b[0m\u001b[0mcvtColor\u001b[0m\u001b[0;34m(\u001b[0m\u001b[0miris\u001b[0m\u001b[0;34m,\u001b[0m \u001b[0mcv2\u001b[0m\u001b[0;34m.\u001b[0m\u001b[0mCOLOR_BGR2RGB\u001b[0m\u001b[0;34m)\u001b[0m\u001b[0;34m)\u001b[0m\u001b[0;34m\u001b[0m\u001b[0;34m\u001b[0m\u001b[0m\n\u001b[0m\u001b[1;32m     14\u001b[0m         \u001b[0mplt\u001b[0m\u001b[0;34m.\u001b[0m\u001b[0mpyplot\u001b[0m\u001b[0;34m.\u001b[0m\u001b[0mtitle\u001b[0m\u001b[0;34m(\u001b[0m\u001b[0;34m'Iris acquisition'\u001b[0m\u001b[0;34m)\u001b[0m\u001b[0;34m\u001b[0m\u001b[0;34m\u001b[0m\u001b[0m\n\u001b[1;32m     15\u001b[0m         \u001b[0mplt\u001b[0m\u001b[0;34m.\u001b[0m\u001b[0mpyplot\u001b[0m\u001b[0;34m.\u001b[0m\u001b[0mshow\u001b[0m\u001b[0;34m(\u001b[0m\u001b[0;34m)\u001b[0m\u001b[0;34m\u001b[0m\u001b[0;34m\u001b[0m\u001b[0m\n",
            "\u001b[0;31mAttributeError\u001b[0m: module 'matplotlib.pyplot' has no attribute 'pyplot'"
          ]
        }
      ]
    },
    {
      "cell_type": "markdown",
      "source": [
        "--------------------------\n",
        "## Iris enhancement"
      ],
      "metadata": {
        "id": "yp6AcBTzRqgN"
      }
    },
    {
      "cell_type": "markdown",
      "source": [
        "### Main steps\n",
        "* <code>_01_preprocess</code>: to preprocess the given image, resizing and bringing it to grayscale.\n",
        "* <code>_02_detect_pupil</code>: to detect the pupil circle.\n",
        "* <code>_03_detect_limbus</code>: to detect the limbus circle.\n",
        "* <code>_04_compute_mask</code>: to mask the iris in and filter everything else out.\n",
        "* <code>_05_normalize_iris</code>: to normalize the iris content into a rectangle."
      ],
      "metadata": {
        "id": "8tFxDsurR-w6"
      }
    },
    {
      "cell_type": "code",
      "source": [
        "# Preprocesses the given <iris> image (numpy 2D array with uint8 pixel values).\n",
        "# Provide <view> as True if you want to see the result of computations.\n",
        "# Returns the preprocessed iris as a numpy 2D uint8 array.\n",
        "def _01_preprocess(iris, iris_width=640, view=False):\n",
        "    # makes the iris grayscale, if it has color information\n",
        "    if len(iris.shape) > 2 and iris.shape[2] > 1:  # more than one channel?\n",
        "        iris = cv2.cvtColor(iris, cv2.COLOR_BGR2GRAY)\n",
        "\n",
        "    # resizes the iris to present a width of <iris_width> pixels,\n",
        "    # keeping the original aspect ratio\n",
        "    aspect_ratio = float(iris.shape[0]) / iris.shape[1]\n",
        "    height = int(round(iris_width * aspect_ratio))\n",
        "    iris = cv2.resize(iris, (iris_width, height))\n",
        "\n",
        "    # shows the obtained iris, if it is the case\n",
        "    if view:\n",
        "        plt.pyplot.imshow(iris, cmap='gray')\n",
        "        plt.pyplot.title('Iris preprocessing')\n",
        "        plt.pyplot.show()\n",
        "\n",
        "    return iris"
      ],
      "metadata": {
        "id": "SoeZn6Y7SMdi"
      },
      "execution_count": 16,
      "outputs": []
    },
    {
      "cell_type": "code",
      "source": [
        "# tests the iris pre-processing\n",
        "pp_iris_1 = _01_preprocess(iris_1, view=True)\n",
        "print('Image resolution:', pp_iris_1.shape, '\\n')\n",
        "\n",
        "pp_iris_2 = _01_preprocess(iris_2, view=True)\n",
        "print('Image resolution:', pp_iris_2.shape, '\\n')"
      ],
      "metadata": {
        "id": "KyeVRZNnTIKr",
        "colab": {
          "base_uri": "https://localhost:8080/",
          "height": 211
        },
        "outputId": "05d0ab79-0020-45c6-b127-b9b4d6bf5842"
      },
      "execution_count": 18,
      "outputs": [
        {
          "output_type": "error",
          "ename": "NameError",
          "evalue": "name 'iris_1' is not defined",
          "traceback": [
            "\u001b[0;31m---------------------------------------------------------------------------\u001b[0m",
            "\u001b[0;31mNameError\u001b[0m                                 Traceback (most recent call last)",
            "\u001b[0;32m<ipython-input-18-8542ae5d151a>\u001b[0m in \u001b[0;36m<cell line: 2>\u001b[0;34m()\u001b[0m\n\u001b[1;32m      1\u001b[0m \u001b[0;31m# tests the iris pre-processing\u001b[0m\u001b[0;34m\u001b[0m\u001b[0;34m\u001b[0m\u001b[0m\n\u001b[0;32m----> 2\u001b[0;31m \u001b[0mpp_iris_1\u001b[0m \u001b[0;34m=\u001b[0m \u001b[0m_01_preprocess\u001b[0m\u001b[0;34m(\u001b[0m\u001b[0miris_1\u001b[0m\u001b[0;34m,\u001b[0m \u001b[0mview\u001b[0m\u001b[0;34m=\u001b[0m\u001b[0;32mTrue\u001b[0m\u001b[0;34m)\u001b[0m\u001b[0;34m\u001b[0m\u001b[0;34m\u001b[0m\u001b[0m\n\u001b[0m\u001b[1;32m      3\u001b[0m \u001b[0mprint\u001b[0m\u001b[0;34m(\u001b[0m\u001b[0;34m'Image resolution:'\u001b[0m\u001b[0;34m,\u001b[0m \u001b[0mpp_iris_1\u001b[0m\u001b[0;34m.\u001b[0m\u001b[0mshape\u001b[0m\u001b[0;34m,\u001b[0m \u001b[0;34m'\\n'\u001b[0m\u001b[0;34m)\u001b[0m\u001b[0;34m\u001b[0m\u001b[0;34m\u001b[0m\u001b[0m\n\u001b[1;32m      4\u001b[0m \u001b[0;34m\u001b[0m\u001b[0m\n\u001b[1;32m      5\u001b[0m \u001b[0mpp_iris_2\u001b[0m \u001b[0;34m=\u001b[0m \u001b[0m_01_preprocess\u001b[0m\u001b[0;34m(\u001b[0m\u001b[0miris_2\u001b[0m\u001b[0;34m,\u001b[0m \u001b[0mview\u001b[0m\u001b[0;34m=\u001b[0m\u001b[0;32mTrue\u001b[0m\u001b[0;34m)\u001b[0m\u001b[0;34m\u001b[0m\u001b[0;34m\u001b[0m\u001b[0m\n",
            "\u001b[0;31mNameError\u001b[0m: name 'iris_1' is not defined"
          ]
        }
      ]
    },
    {
      "cell_type": "code",
      "source": [
        "# Detects the pupil over the given <iris> leveraging the OpenCV\n",
        "# implementation of blob detection; the pupil is a blob.\n",
        "# Provide <view> as True if you want to see the result of computation.\n",
        "# Returns the pupil circle (x_center, y_center, radius), in pixels.\n",
        "# Returns None if no pupil is found.\n",
        "def _02_detect_pupil(iris, iris_blur_size=31, iris_min_rad=20, view=False):\n",
        "  # sharpens the iris texture and min-max normalizes it in the [0,255] interval\n",
        "  blur_iris = cv2.medianBlur(iris, iris_blur_size)\n",
        "  blur_iris = iris - blur_iris\n",
        "\n",
        "  if view:\n",
        "    plt.pyplot.imshow(blur_iris, cmap='gray')\n",
        "    plt.pyplot.title('Sharp iris')\n",
        "    plt.pyplot.show()\n",
        "\n",
        "  # blob detection with OpenCV\n",
        "  blob_detection = cv2.SimpleBlobDetector_Params()\n",
        "  blob_detection.filterByArea = True\n",
        "  blob_detection.minArea = int(np.pi * iris_min_rad ** 2)\n",
        "  blob_detection.maxArea = int(np.pi * (iris_min_rad * 4) ** 2)\n",
        "  blob_detector = cv2.SimpleBlobDetector_create(blob_detection)\n",
        "  blobs = blob_detector.detect(blur_iris)\n",
        "\n",
        "  # takes the pupil as the largest blob\n",
        "  pupil = None\n",
        "  ref_size = 0\n",
        "\n",
        "  for blob in blobs:\n",
        "    if blob.size > ref_size:\n",
        "      pupil = (int(blob.pt[0]), int(blob.pt[1]), int(blob.size / 2))\n",
        "      ref_size = blob.size\n",
        "\n",
        "  # shows the obtained pupil, if it is the case\n",
        "  if view:\n",
        "    iris_copy = cv2.cvtColor(iris, cv2.COLOR_GRAY2BGR)\n",
        "\n",
        "    if pupil is not None:\n",
        "      cv2.circle(iris_copy, pupil[0:2], pupil[2], (0, 255, 0), 1)\n",
        "\n",
        "    plt.pyplot.imshow(cv2.cvtColor(iris_copy, cv2.COLOR_BGR2RGB))\n",
        "    plt.pyplot.title('Pupil on iris')\n",
        "    plt.pyplot.show()\n",
        "\n",
        "  # returns the obtained pupil\n",
        "  return pupil"
      ],
      "metadata": {
        "id": "MqNBTStxe6Ta"
      },
      "execution_count": 20,
      "outputs": []
    },
    {
      "cell_type": "code",
      "source": [
        "# tests the pupil detection\n",
        "pupil_1 = _02_detect_pupil(pp_iris_1, view=True)\n",
        "print('\\n')\n",
        "\n",
        "pupil_2 = _02_detect_pupil(pp_iris_2, view=True)"
      ],
      "metadata": {
        "id": "KAyGPvbziW80",
        "colab": {
          "base_uri": "https://localhost:8080/",
          "height": 211
        },
        "outputId": "0fc7ae21-d571-4874-e1ec-7ae9ad54bbe6"
      },
      "execution_count": 21,
      "outputs": [
        {
          "output_type": "error",
          "ename": "NameError",
          "evalue": "name 'pp_iris_1' is not defined",
          "traceback": [
            "\u001b[0;31m---------------------------------------------------------------------------\u001b[0m",
            "\u001b[0;31mNameError\u001b[0m                                 Traceback (most recent call last)",
            "\u001b[0;32m<ipython-input-21-d69f4eeb76e5>\u001b[0m in \u001b[0;36m<cell line: 2>\u001b[0;34m()\u001b[0m\n\u001b[1;32m      1\u001b[0m \u001b[0;31m# tests the pupil detection\u001b[0m\u001b[0;34m\u001b[0m\u001b[0;34m\u001b[0m\u001b[0m\n\u001b[0;32m----> 2\u001b[0;31m \u001b[0mpupil_1\u001b[0m \u001b[0;34m=\u001b[0m \u001b[0m_02_detect_pupil\u001b[0m\u001b[0;34m(\u001b[0m\u001b[0mpp_iris_1\u001b[0m\u001b[0;34m,\u001b[0m \u001b[0mview\u001b[0m\u001b[0;34m=\u001b[0m\u001b[0;32mTrue\u001b[0m\u001b[0;34m)\u001b[0m\u001b[0;34m\u001b[0m\u001b[0;34m\u001b[0m\u001b[0m\n\u001b[0m\u001b[1;32m      3\u001b[0m \u001b[0mprint\u001b[0m\u001b[0;34m(\u001b[0m\u001b[0;34m'\\n'\u001b[0m\u001b[0;34m)\u001b[0m\u001b[0;34m\u001b[0m\u001b[0;34m\u001b[0m\u001b[0m\n\u001b[1;32m      4\u001b[0m \u001b[0;34m\u001b[0m\u001b[0m\n\u001b[1;32m      5\u001b[0m \u001b[0mpupil_2\u001b[0m \u001b[0;34m=\u001b[0m \u001b[0m_02_detect_pupil\u001b[0m\u001b[0;34m(\u001b[0m\u001b[0mpp_iris_2\u001b[0m\u001b[0;34m,\u001b[0m \u001b[0mview\u001b[0m\u001b[0;34m=\u001b[0m\u001b[0;32mTrue\u001b[0m\u001b[0;34m)\u001b[0m\u001b[0;34m\u001b[0m\u001b[0;34m\u001b[0m\u001b[0m\n",
            "\u001b[0;31mNameError\u001b[0m: name 'pp_iris_1' is not defined"
          ]
        }
      ]
    },
    {
      "cell_type": "code",
      "source": [
        "# Detects the limbus over the given <iris>, by finding the limbus circle\n",
        "# with the best fit to the Laplacian of Gaussian of the iris.\n",
        "# Provide <view> as True if you want to see the result of computations.\n",
        "# Returns the limbus circle (x_center, y_center, radius), in pixels.\n",
        "# Returns None if no limbus is found.\n",
        "def _03_detect_limbus(iris, pupil,\n",
        "                      blur_size=3, limbus_offset_ratio=3.0,\n",
        "                      limbus_min_pupil_ratio = 1.4,\n",
        "                      limbus_max_pupil_ratio = 4.4,\n",
        "                      view=False):\n",
        "  # computes the LoG of the given iris\n",
        "  gauss_iris = cv2.GaussianBlur(iris, (blur_size, blur_size), 0)\n",
        "  log_iris = (cv2.Laplacian(gauss_iris, cv2.CV_32F, None, blur_size) > 0).astype(np.uint8)\n",
        "\n",
        "  if view:\n",
        "    plt.pyplot.imshow(log_iris, cmap='gray')\n",
        "    plt.pyplot.title('LoG iris')\n",
        "    plt.pyplot.show()\n",
        "\n",
        "  # finds the best fitting circle to the LoG iris\n",
        "  best_limbus_pos = None\n",
        "  best_limbus_sum = 0.0\n",
        "  best_limbus_rad = 0\n",
        "\n",
        "  limbus_offset = int(pupil[2] / limbus_offset_ratio)\n",
        "  for limbus_radius in range(int(pupil[2] * limbus_min_pupil_ratio),\n",
        "                             int(pupil[2] * limbus_max_pupil_ratio), 2):\n",
        "    for x in range(pupil[0] - limbus_offset, pupil[0] + limbus_offset, 2):\n",
        "      for y in range(pupil[1] - limbus_offset, pupil[1] + limbus_offset, 2):\n",
        "        limbus_mask_i = np.zeros(iris.shape, np.uint8)\n",
        "        cv2.circle(limbus_mask_i, (x, y), limbus_radius, (255, 255, 255), 1)\n",
        "\n",
        "        limbus_sum = np.sum(cv2.bitwise_and(log_iris, log_iris, mask=limbus_mask_i)).astype(np.float32) / (2 * np.pi * (limbus_radius))\n",
        "        if limbus_sum > best_limbus_sum or (limbus_sum == best_limbus_sum and limbus_radius > best_limbus_rad):\n",
        "          best_limbus_pos = (x, y)\n",
        "          best_limbus_sum = limbus_sum\n",
        "          best_limbus_rad = limbus_radius\n",
        "\n",
        "  # sets the obtained limbus\n",
        "  limbus = None\n",
        "  if best_limbus_pos is not None:\n",
        "    limbus = (best_limbus_pos[0], best_limbus_pos[1], best_limbus_rad)\n",
        "\n",
        "  # shows the obtained limbus=, if it is the case\n",
        "  if view:\n",
        "    iris_copy = cv2.cvtColor(iris, cv2.COLOR_GRAY2BGR)\n",
        "\n",
        "    if limbus is not None:\n",
        "      cv2.circle(iris_copy, limbus[0:2], limbus[2], (0, 255, 0), 1)\n",
        "\n",
        "    plt.pyplot.imshow(cv2.cvtColor(iris_copy, cv2.COLOR_BGR2RGB))\n",
        "    plt.pyplot.title('Limbus on iris')\n",
        "    plt.pyplot.show()\n",
        "\n",
        "  # returns the obtained limbus\n",
        "  return limbus"
      ],
      "metadata": {
        "id": "tcc6NUPO7Ko2"
      },
      "execution_count": 22,
      "outputs": []
    },
    {
      "cell_type": "code",
      "source": [
        "# tests the limbus detection\n",
        "limbus_1 = _03_detect_limbus(pp_iris_1, pupil_1, view=True)\n",
        "print('\\n')\n",
        "\n",
        "limbus_2 = _03_detect_limbus(pp_iris_2, pupil_2, view=True)"
      ],
      "metadata": {
        "id": "ZJWRKq-tnObT",
        "colab": {
          "base_uri": "https://localhost:8080/",
          "height": 211
        },
        "outputId": "109e4c23-ee25-40a3-e0cb-7119b11a8bd1"
      },
      "execution_count": 23,
      "outputs": [
        {
          "output_type": "error",
          "ename": "NameError",
          "evalue": "name 'pp_iris_1' is not defined",
          "traceback": [
            "\u001b[0;31m---------------------------------------------------------------------------\u001b[0m",
            "\u001b[0;31mNameError\u001b[0m                                 Traceback (most recent call last)",
            "\u001b[0;32m<ipython-input-23-7f04b368c935>\u001b[0m in \u001b[0;36m<cell line: 2>\u001b[0;34m()\u001b[0m\n\u001b[1;32m      1\u001b[0m \u001b[0;31m# tests the limbus detection\u001b[0m\u001b[0;34m\u001b[0m\u001b[0;34m\u001b[0m\u001b[0m\n\u001b[0;32m----> 2\u001b[0;31m \u001b[0mlimbus_1\u001b[0m \u001b[0;34m=\u001b[0m \u001b[0m_03_detect_limbus\u001b[0m\u001b[0;34m(\u001b[0m\u001b[0mpp_iris_1\u001b[0m\u001b[0;34m,\u001b[0m \u001b[0mpupil_1\u001b[0m\u001b[0;34m,\u001b[0m \u001b[0mview\u001b[0m\u001b[0;34m=\u001b[0m\u001b[0;32mTrue\u001b[0m\u001b[0;34m)\u001b[0m\u001b[0;34m\u001b[0m\u001b[0;34m\u001b[0m\u001b[0m\n\u001b[0m\u001b[1;32m      3\u001b[0m \u001b[0mprint\u001b[0m\u001b[0;34m(\u001b[0m\u001b[0;34m'\\n'\u001b[0m\u001b[0;34m)\u001b[0m\u001b[0;34m\u001b[0m\u001b[0;34m\u001b[0m\u001b[0m\n\u001b[1;32m      4\u001b[0m \u001b[0;34m\u001b[0m\u001b[0m\n\u001b[1;32m      5\u001b[0m \u001b[0mlimbus_2\u001b[0m \u001b[0;34m=\u001b[0m \u001b[0m_03_detect_limbus\u001b[0m\u001b[0;34m(\u001b[0m\u001b[0mpp_iris_2\u001b[0m\u001b[0;34m,\u001b[0m \u001b[0mpupil_2\u001b[0m\u001b[0;34m,\u001b[0m \u001b[0mview\u001b[0m\u001b[0;34m=\u001b[0m\u001b[0;32mTrue\u001b[0m\u001b[0;34m)\u001b[0m\u001b[0;34m\u001b[0m\u001b[0;34m\u001b[0m\u001b[0m\n",
            "\u001b[0;31mNameError\u001b[0m: name 'pp_iris_1' is not defined"
          ]
        }
      ]
    },
    {
      "cell_type": "code",
      "source": [
        "# Computes a mask to remove eye lashes and specular highlights from the given <iris>.\n",
        "# This process needs the <pupil> and <limbus> circles to execute the proper segmentation.\n",
        "# Provide <view> as True if you want to see the result of computations.\n",
        "# Returns the computed mask as a numpy 2D uint8 array, which is black (zero) for the areas to be ignored, and\n",
        "# white (255) for the ones to be processed.\n",
        "def _04_compute_mask(iris, pupil, limbus,\n",
        "                     eyelash_value=25, spec_value=254,\n",
        "                     view=False):\n",
        "    # computed mask\n",
        "    mask = np.zeros(iris.shape, np.uint8)\n",
        "\n",
        "    # adds limbus and pupil regions to the mask\n",
        "    cv2.circle(mask, limbus[0:2], limbus[2], (255, 255, 255), -1)\n",
        "    cv2.circle(mask, pupil[0:2], pupil[2], (0, 0, 0), -1)\n",
        "\n",
        "    # removes eventual eye lashes (black) and specular highlights (white)\n",
        "    eq_iris = cv2.bitwise_and(iris, iris, mask=mask)\n",
        "    eq_iris = cv2.equalizeHist(eq_iris)\n",
        "    eq_iris = cv2.normalize(eq_iris, None, 0, 255, cv2.NORM_MINMAX)\n",
        "    _, m_lashes = cv2.threshold(eq_iris, eyelash_value, 255, cv2.THRESH_BINARY)\n",
        "    _, m_specul = cv2.threshold(eq_iris, spec_value, 255, cv2.THRESH_BINARY_INV)\n",
        "\n",
        "    # final mask\n",
        "    mask = cv2.bitwise_and(m_lashes, m_specul, mask=mask)\n",
        "\n",
        "    # shows the obtained mask, if it is the case\n",
        "    if view:\n",
        "        mask_iris = cv2.bitwise_and(iris, iris, mask=mask)\n",
        "        plt.pyplot.imshow(mask_iris, cmap='gray')\n",
        "        plt.pyplot.title('Masked iris')\n",
        "        plt.pyplot.show()\n",
        "\n",
        "    return mask"
      ],
      "metadata": {
        "id": "AOspYMW97ynL"
      },
      "execution_count": 24,
      "outputs": []
    },
    {
      "cell_type": "code",
      "source": [
        "# tests iris masking\n",
        "mask_1 = _04_compute_mask(pp_iris_1, pupil_1, limbus_1, view=True)\n",
        "print('\\n')\n",
        "\n",
        "mask_2 = _04_compute_mask(pp_iris_2, pupil_2, limbus_2, view=True)"
      ],
      "metadata": {
        "id": "Z6z-gpI98XJc"
      },
      "execution_count": null,
      "outputs": []
    },
    {
      "cell_type": "code",
      "source": [
        "# Normalizes the given <iris> making it a proper rectangle (rubber sheet algorithm).\n",
        "# This process needs the <pupil> and <limbus> circles, as well as the iris useful content <mask>\n",
        "# to execute the proper normalization.\n",
        "# Provide <view> as True if you want to see the result of computations.\n",
        "# Returns the normalized iris and respective normalized mask as numpy 2D uint8 arrays.\n",
        "def _05_normalize_iris(iris, pupil, limbus, mask,\n",
        "                       norm_iris_width=512, norm_iris_height=64,\n",
        "                       norm_iris_sector_count=1000,\n",
        "                       view=False):\n",
        "    # iris band width\n",
        "    iris_band_width = limbus[2] - pupil[2]\n",
        "\n",
        "    # output normalized iris\n",
        "    norm_iris = np.zeros((iris_band_width, norm_iris_sector_count), np.uint8)\n",
        "    norm_mask = np.zeros((iris_band_width, norm_iris_sector_count), np.uint8)\n",
        "\n",
        "    # for each sector...\n",
        "    j = 0\n",
        "    for angle in np.arange(0, 2.0 * np.pi, 2.0 * np.pi / norm_iris_sector_count):\n",
        "        # for each iris band pixel...\n",
        "        for i in range(iris_band_width):\n",
        "            # cartesian position\n",
        "            x = int(round(pupil[0] + (pupil[2] + i + 1) * np.sin(angle)))\n",
        "            y = int(round(pupil[1] + (pupil[2] + i + 1) * np.cos(angle)))\n",
        "\n",
        "            # pixel-value transference\n",
        "            norm_iris[i, j] = iris[y, x]\n",
        "            norm_mask[i, j] = mask[y, x]\n",
        "\n",
        "        # next sector\n",
        "        j = j + 1\n",
        "\n",
        "    # resizes the normalized iris and mask\n",
        "    norm_iris = cv2.resize(norm_iris, (norm_iris_width, norm_iris_height),\n",
        "                           interpolation=cv2.INTER_CUBIC)\n",
        "    norm_iris = cv2.equalizeHist(norm_iris)\n",
        "\n",
        "    norm_mask = cv2.resize(norm_mask, (norm_iris_width, norm_iris_height),\n",
        "                           interpolation=cv2.INTER_CUBIC)\n",
        "    _, norm_mask = cv2.threshold(norm_mask, 0, 255, cv2.THRESH_BINARY)\n",
        "\n",
        "    if view:\n",
        "      norm_view = np.vstack((norm_iris, norm_mask))\n",
        "      plt.pyplot.imshow(norm_view, cmap='gray')\n",
        "      plt.pyplot.title('Normalized iris')\n",
        "      plt.pyplot.show()\n",
        "\n",
        "    # returns the obtained normalized iris and mask\n",
        "    return norm_iris, norm_mask"
      ],
      "metadata": {
        "id": "82w0sW-M_jNC"
      },
      "execution_count": 25,
      "outputs": []
    },
    {
      "cell_type": "code",
      "source": [
        "# tests iris normalization\n",
        "norm_iris_1, norm_mask_1 = _05_normalize_iris(pp_iris_1, pupil_1, limbus_1, mask_1, view=True)\n",
        "print('\\n')\n",
        "\n",
        "norm_iris_2, norm_mask_2 = _05_normalize_iris(pp_iris_2, pupil_2, limbus_2, mask_2, view=True)"
      ],
      "metadata": {
        "id": "shypZuJwA0rh"
      },
      "execution_count": null,
      "outputs": []
    },
    {
      "cell_type": "markdown",
      "source": [
        "### Main function"
      ],
      "metadata": {
        "id": "11OdbvM4Bh-G"
      }
    },
    {
      "cell_type": "code",
      "source": [
        "# Enhances the given <iris> image (numpy 2-D array with uint8 pixel values).\n",
        "# Provide <view> as True if you want to see the results of computations.\n",
        "# Returns the normalized iris and respective normalized mask as numpy 2D uint8 arrays.\n",
        "def enhance(iris, view=False):\n",
        "    # pre-processes the iris\n",
        "    pp_iris = _01_preprocess(iris, view=view)\n",
        "\n",
        "    # detects the pupil\n",
        "    pupil = _02_detect_pupil(pp_iris)\n",
        "    if pupil is None:\n",
        "        return None\n",
        "\n",
        "    # detects the limbus\n",
        "    limbus = _03_detect_limbus(pp_iris, pupil)\n",
        "    if limbus is None:\n",
        "        return None\n",
        "\n",
        "    # shows pupil and limbus, if this is the case\n",
        "    if view:\n",
        "      view_pupil_limbus = cv2.cvtColor(pp_iris, cv2.COLOR_GRAY2BGR)\n",
        "      cv2.circle(view_pupil_limbus, pupil[0:2], pupil[2], (0, 255, 0), 1)\n",
        "      cv2.circle(view_pupil_limbus, limbus[0:2], limbus[2], (0, 0, 255), 1)\n",
        "\n",
        "      plt.pyplot.imshow(cv2.cvtColor(view_pupil_limbus, cv2.COLOR_BGR2RGB))\n",
        "      plt.pyplot.title('Pupil and limbus')\n",
        "      plt.pyplot.show()\n",
        "\n",
        "    # computes the mask that will remove the noise from the iris texture\n",
        "    mask = _04_compute_mask(pp_iris, pupil, limbus, view=view)\n",
        "\n",
        "    # computes the normalized iris\n",
        "    norm_iris, norm_mask = _05_normalize_iris(pp_iris, pupil, limbus, mask, view=view)\n",
        "\n",
        "    return norm_iris, norm_mask"
      ],
      "metadata": {
        "id": "yQaP3kZ9Bh-H"
      },
      "execution_count": 26,
      "outputs": []
    },
    {
      "cell_type": "code",
      "source": [
        "# tests the enhancement function\n",
        "iris_1 = acquire_from_file('/content/eye_011.png')\n",
        "iris_2 = acquire_from_file('/content/eye_012.png')\n",
        "\n",
        "norm_iris_1, mask_iris_1 = enhance(iris_1, view=True)\n",
        "print('\\n')\n",
        "\n",
        "norm_iris_2, mask_iris_2 = enhance(iris_2, view=True)"
      ],
      "metadata": {
        "id": "EyKT9H4jBh-H"
      },
      "execution_count": null,
      "outputs": []
    },
    {
      "cell_type": "markdown",
      "source": [
        "--------------------------\n",
        "## Iris description\n",
        "\n"
      ],
      "metadata": {
        "id": "lE5NpNYBe5BJ"
      }
    },
    {
      "cell_type": "markdown",
      "source": [
        "### Main function"
      ],
      "metadata": {
        "id": "PfsQzgSMfBMe"
      }
    },
    {
      "cell_type": "code",
      "source": [
        "# Describes the given normalized iris <norm_iris> with BSIF filters.\n",
        "# Provide <view> as True if you want to see the results of computations.\n",
        "# Returns the obtained binary descriptions.\n",
        "def describe(norm_iris,\n",
        "             filter_file_path='/content/ICAtextureFilters_15x15_7bit.mat',\n",
        "             view=False):\n",
        "    # BSIF filters learned from the eye-tracking data\n",
        "    filters = scipy.io.loadmat(filter_file_path)['ICAtextureFilters']\n",
        "    filter_count = filters.shape[2]\n",
        "    filter_size = filters.shape[0]\n",
        "\n",
        "    # output binary code\n",
        "    descriptions = np.zeros((norm_iris.shape[0], norm_iris.shape[1], filter_count))\n",
        "\n",
        "    # prepares the iris image to be convolved with the BSIF filters\n",
        "    offset = int(filter_size / 2)\n",
        "    iris_wrap = np.zeros((offset*2 + norm_iris.shape[0], offset*2 + norm_iris.shape[1]))\n",
        "\n",
        "    iris_wrap[offset:-offset, offset:-offset] = norm_iris\n",
        "    iris_wrap[offset:-offset, :offset] = norm_iris[:, -offset:]\n",
        "    iris_wrap[offset:-offset, -offset:] = norm_iris[:, :offset]\n",
        "    iris_wrap[offset-1:0:-1, :] = iris_wrap[offset:(offset*2)-1, :]\n",
        "    iris_wrap[-offset:, :] = iris_wrap[-offset-1:(-offset*2)-1:-1, :]\n",
        "\n",
        "    if view:\n",
        "      plt.pyplot.imshow(iris_wrap, cmap='gray')\n",
        "      plt.pyplot.title('Iris wrap')\n",
        "      plt.pyplot.show()\n",
        "\n",
        "    # for each filter, applies the convolution with the iris image\n",
        "    for i in range(filter_count):\n",
        "        conv = scipy.signal.convolve2d(iris_wrap, np.rot90(filters[:, :, filter_count - i - 1], 2), mode='valid')\n",
        "        descriptions[:, :, i] = conv > 0.0  # binarization\n",
        "\n",
        "        # shows the current convolved image, if it is the case\n",
        "        if view:\n",
        "            view_conv = cv2.normalize(conv, None, alpha=0, beta=255, norm_type=cv2.NORM_MINMAX).astype(np.uint8)\n",
        "            plt.pyplot.imshow(cv2.cvtColor(view_conv, cv2.COLOR_BGR2RGB))\n",
        "            plt.pyplot.title('Filtered iris ' + str(i + 1))\n",
        "            plt.pyplot.show()\n",
        "\n",
        "            view_code = descriptions[:, :, i].astype(np.uint8) * 255\n",
        "            plt.pyplot.imshow(cv2.cvtColor(view_code, cv2.COLOR_BGR2RGB))\n",
        "            plt.pyplot.title('Iris code ' + str(i + 1))\n",
        "            plt.pyplot.show()\n",
        "\n",
        "    return descriptions"
      ],
      "metadata": {
        "id": "tIp4JserfDaH"
      },
      "execution_count": 27,
      "outputs": []
    },
    {
      "cell_type": "code",
      "source": [
        "# tests the description function\n",
        "iris_1 = acquire_from_file('/content/eye_011.png')\n",
        "iris_2 = acquire_from_file('/content/eye_012.png')\n",
        "\n",
        "norm_iris_1, mask_iris_1 = enhance(iris_1)\n",
        "norm_iris_2, mask_iris_2 = enhance(iris_2)\n",
        "\n",
        "desc_1 = describe(norm_iris_1, view=True)\n",
        "print('Description:', desc_1.shape, '\\n')\n",
        "\n",
        "desc_2 = describe(norm_iris_2, view=True)\n",
        "print('Description:', desc_2.shape)"
      ],
      "metadata": {
        "id": "RkOeNGkRhcrx",
        "colab": {
          "base_uri": "https://localhost:8080/",
          "height": 356
        },
        "outputId": "c9812822-3561-4f0d-c4d7-e0561e714187"
      },
      "execution_count": 29,
      "outputs": [
        {
          "output_type": "error",
          "ename": "AttributeError",
          "evalue": "'NoneType' object has no attribute 'shape'",
          "traceback": [
            "\u001b[0;31m---------------------------------------------------------------------------\u001b[0m",
            "\u001b[0;31mAttributeError\u001b[0m                            Traceback (most recent call last)",
            "\u001b[0;32m<ipython-input-29-132c086c4081>\u001b[0m in \u001b[0;36m<cell line: 5>\u001b[0;34m()\u001b[0m\n\u001b[1;32m      3\u001b[0m \u001b[0miris_2\u001b[0m \u001b[0;34m=\u001b[0m \u001b[0macquire_from_file\u001b[0m\u001b[0;34m(\u001b[0m\u001b[0;34m'/content/eye_012.png'\u001b[0m\u001b[0;34m)\u001b[0m\u001b[0;34m\u001b[0m\u001b[0;34m\u001b[0m\u001b[0m\n\u001b[1;32m      4\u001b[0m \u001b[0;34m\u001b[0m\u001b[0m\n\u001b[0;32m----> 5\u001b[0;31m \u001b[0mnorm_iris_1\u001b[0m\u001b[0;34m,\u001b[0m \u001b[0mmask_iris_1\u001b[0m \u001b[0;34m=\u001b[0m \u001b[0menhance\u001b[0m\u001b[0;34m(\u001b[0m\u001b[0miris_1\u001b[0m\u001b[0;34m)\u001b[0m\u001b[0;34m\u001b[0m\u001b[0;34m\u001b[0m\u001b[0m\n\u001b[0m\u001b[1;32m      6\u001b[0m \u001b[0mnorm_iris_2\u001b[0m\u001b[0;34m,\u001b[0m \u001b[0mmask_iris_2\u001b[0m \u001b[0;34m=\u001b[0m \u001b[0menhance\u001b[0m\u001b[0;34m(\u001b[0m\u001b[0miris_2\u001b[0m\u001b[0;34m)\u001b[0m\u001b[0;34m\u001b[0m\u001b[0;34m\u001b[0m\u001b[0m\n\u001b[1;32m      7\u001b[0m \u001b[0;34m\u001b[0m\u001b[0m\n",
            "\u001b[0;32m<ipython-input-26-2328beccf13b>\u001b[0m in \u001b[0;36menhance\u001b[0;34m(iris, view)\u001b[0m\n\u001b[1;32m      4\u001b[0m \u001b[0;32mdef\u001b[0m \u001b[0menhance\u001b[0m\u001b[0;34m(\u001b[0m\u001b[0miris\u001b[0m\u001b[0;34m,\u001b[0m \u001b[0mview\u001b[0m\u001b[0;34m=\u001b[0m\u001b[0;32mFalse\u001b[0m\u001b[0;34m)\u001b[0m\u001b[0;34m:\u001b[0m\u001b[0;34m\u001b[0m\u001b[0;34m\u001b[0m\u001b[0m\n\u001b[1;32m      5\u001b[0m     \u001b[0;31m# pre-processes the iris\u001b[0m\u001b[0;34m\u001b[0m\u001b[0;34m\u001b[0m\u001b[0m\n\u001b[0;32m----> 6\u001b[0;31m     \u001b[0mpp_iris\u001b[0m \u001b[0;34m=\u001b[0m \u001b[0m_01_preprocess\u001b[0m\u001b[0;34m(\u001b[0m\u001b[0miris\u001b[0m\u001b[0;34m,\u001b[0m \u001b[0mview\u001b[0m\u001b[0;34m=\u001b[0m\u001b[0mview\u001b[0m\u001b[0;34m)\u001b[0m\u001b[0;34m\u001b[0m\u001b[0;34m\u001b[0m\u001b[0m\n\u001b[0m\u001b[1;32m      7\u001b[0m \u001b[0;34m\u001b[0m\u001b[0m\n\u001b[1;32m      8\u001b[0m     \u001b[0;31m# detects the pupil\u001b[0m\u001b[0;34m\u001b[0m\u001b[0;34m\u001b[0m\u001b[0m\n",
            "\u001b[0;32m<ipython-input-16-1864878c99f9>\u001b[0m in \u001b[0;36m_01_preprocess\u001b[0;34m(iris, iris_width, view)\u001b[0m\n\u001b[1;32m      4\u001b[0m \u001b[0;32mdef\u001b[0m \u001b[0m_01_preprocess\u001b[0m\u001b[0;34m(\u001b[0m\u001b[0miris\u001b[0m\u001b[0;34m,\u001b[0m \u001b[0miris_width\u001b[0m\u001b[0;34m=\u001b[0m\u001b[0;36m640\u001b[0m\u001b[0;34m,\u001b[0m \u001b[0mview\u001b[0m\u001b[0;34m=\u001b[0m\u001b[0;32mFalse\u001b[0m\u001b[0;34m)\u001b[0m\u001b[0;34m:\u001b[0m\u001b[0;34m\u001b[0m\u001b[0;34m\u001b[0m\u001b[0m\n\u001b[1;32m      5\u001b[0m     \u001b[0;31m# makes the iris grayscale, if it has color information\u001b[0m\u001b[0;34m\u001b[0m\u001b[0;34m\u001b[0m\u001b[0m\n\u001b[0;32m----> 6\u001b[0;31m     \u001b[0;32mif\u001b[0m \u001b[0mlen\u001b[0m\u001b[0;34m(\u001b[0m\u001b[0miris\u001b[0m\u001b[0;34m.\u001b[0m\u001b[0mshape\u001b[0m\u001b[0;34m)\u001b[0m \u001b[0;34m>\u001b[0m \u001b[0;36m2\u001b[0m \u001b[0;32mand\u001b[0m \u001b[0miris\u001b[0m\u001b[0;34m.\u001b[0m\u001b[0mshape\u001b[0m\u001b[0;34m[\u001b[0m\u001b[0;36m2\u001b[0m\u001b[0;34m]\u001b[0m \u001b[0;34m>\u001b[0m \u001b[0;36m1\u001b[0m\u001b[0;34m:\u001b[0m  \u001b[0;31m# more than one channel?\u001b[0m\u001b[0;34m\u001b[0m\u001b[0;34m\u001b[0m\u001b[0m\n\u001b[0m\u001b[1;32m      7\u001b[0m         \u001b[0miris\u001b[0m \u001b[0;34m=\u001b[0m \u001b[0mcv2\u001b[0m\u001b[0;34m.\u001b[0m\u001b[0mcvtColor\u001b[0m\u001b[0;34m(\u001b[0m\u001b[0miris\u001b[0m\u001b[0;34m,\u001b[0m \u001b[0mcv2\u001b[0m\u001b[0;34m.\u001b[0m\u001b[0mCOLOR_BGR2GRAY\u001b[0m\u001b[0;34m)\u001b[0m\u001b[0;34m\u001b[0m\u001b[0;34m\u001b[0m\u001b[0m\n\u001b[1;32m      8\u001b[0m \u001b[0;34m\u001b[0m\u001b[0m\n",
            "\u001b[0;31mAttributeError\u001b[0m: 'NoneType' object has no attribute 'shape'"
          ]
        }
      ]
    },
    {
      "cell_type": "markdown",
      "source": [
        "-----------------------\n",
        "## Iris matching"
      ],
      "metadata": {
        "id": "mieWraYyfDnQ"
      }
    },
    {
      "cell_type": "markdown",
      "source": [
        "### Auxiliary functions\n",
        "* <code>_rotate_norm_image</code>: to rotate the binary code to cope with eventual head tilt during iris capture.\n",
        "* <code>_compute_norm_hamming_distance</code>: to compute the distance between two given iris descriptions."
      ],
      "metadata": {
        "id": "QdoNwPFNlYRF"
      }
    },
    {
      "cell_type": "code",
      "source": [
        "# Shifts the given iris binary code <image> according to the given <rotation>,\n",
        "# in pixels. Returns the rotated code.\n",
        "def _rotate_norm_image(image, rotation):\n",
        "    output = np.zeros(image.shape, image.dtype)\n",
        "\n",
        "    if rotation == 0:\n",
        "        return image\n",
        "\n",
        "    else:\n",
        "        output[:, rotation:] = image[:, :-rotation]\n",
        "        output[:, :rotation] = image[:, -rotation:]\n",
        "\n",
        "    return output"
      ],
      "metadata": {
        "id": "PPm5tSXoi6Sa"
      },
      "execution_count": 30,
      "outputs": []
    },
    {
      "cell_type": "code",
      "source": [
        "# Computes the hamming distance between the given iris binary codes <description_1> and <description_2>,\n",
        "# observing their respective masks <mask_1> and <mask_2>.\n",
        "# Returns the normalized iris code distance as a positive real value.\n",
        "def _compute_norm_hamming_distance(description_1, mask_1, description2, mask_2):\n",
        "    # combines both masks\n",
        "    comb_mask = cv2.bitwise_and(mask_1, mask_2)\n",
        "\n",
        "    # computes the number of bits up within the resulting mask\n",
        "    bit_up_count = np.sum(comb_mask > 0)\n",
        "\n",
        "    # hamming distance\n",
        "    xor_output = cv2.bitwise_xor(description_1, description2)\n",
        "    xor_output = cv2.bitwise_and(xor_output, xor_output, mask=comb_mask)\n",
        "    dist = np.sum(xor_output > 0)\n",
        "\n",
        "    # returns the normalized hamming distance\n",
        "    return float(dist) / bit_up_count"
      ],
      "metadata": {
        "id": "0WwVL9MwM9-7"
      },
      "execution_count": 31,
      "outputs": []
    },
    {
      "cell_type": "markdown",
      "source": [
        "### Main function"
      ],
      "metadata": {
        "id": "vGxwaSKWPqcg"
      }
    },
    {
      "cell_type": "code",
      "source": [
        "# Matches the given iris binary codes <description_1> and <description_2>,\n",
        "# observing their respective masks <mask_1> and <mask_2>.\n",
        "# Returns the distance between the given iris codes, coping with possible head tilts and consequent iris rotations\n",
        "# during acquisition. The distance is a positive real number.\n",
        "def match(descriptions_1, mask_1, descriptions_2, mask_2, rotations=16):\n",
        "    # holds the distances computed for each rotation\n",
        "    rot_distances = []\n",
        "\n",
        "    # for each rotation...\n",
        "    for rotation in range(-rotations, rotations + 1):\n",
        "        # holds the BSIF-filter-wise pairwise description distances\n",
        "        distances = []\n",
        "\n",
        "        # for each BSIF-filter-wise description\n",
        "        for i in range(descriptions_1.shape[2]):  # could be \"for i in range(descriptions_2.shape[2]):\"\n",
        "            # rotates description 2 and compares to 1\n",
        "            desc_1 = descriptions_1[:, :, i]\n",
        "            rot_desc_2 = _rotate_norm_image(descriptions_2[:, :, i], rotation)\n",
        "            rot_mask_2 = _rotate_norm_image(mask_2, rotation)\n",
        "\n",
        "            # computes and stores the current distance\n",
        "            distances.append(_compute_norm_hamming_distance(desc_1, mask_1, rot_desc_2, rot_mask_2))\n",
        "\n",
        "        # takes the resulting rotation distance as the average\n",
        "        rot_distances.append(np.mean(distances))\n",
        "\n",
        "    # returns the final distance as the minimum one (best rotation match)\n",
        "    return np.min(rot_distances)"
      ],
      "metadata": {
        "id": "jhrDlXMDPsxy"
      },
      "execution_count": 32,
      "outputs": []
    },
    {
      "cell_type": "code",
      "source": [
        "# tests the matching function\n",
        "iris_1 = acquire_from_file('/content/eye_011.png')\n",
        "iris_2 = acquire_from_file('/content/eye_012.png')\n",
        "\n",
        "norm_iris_1, mask_iris_1 = enhance(iris_1)\n",
        "norm_iris_2, mask_iris_2 = enhance(iris_2)\n",
        "\n",
        "desc_1 = describe(norm_iris_1)\n",
        "desc_2 = describe(norm_iris_2)\n",
        "\n",
        "distance = match(desc_1, mask_iris_1, desc_2, mask_iris_2)\n",
        "print('Distance:', distance)"
      ],
      "metadata": {
        "id": "MY2RkKOCQlAu",
        "colab": {
          "base_uri": "https://localhost:8080/",
          "height": 356
        },
        "outputId": "186f2f2c-e181-41f5-a59c-061e3644514a"
      },
      "execution_count": 33,
      "outputs": [
        {
          "output_type": "error",
          "ename": "AttributeError",
          "evalue": "'NoneType' object has no attribute 'shape'",
          "traceback": [
            "\u001b[0;31m---------------------------------------------------------------------------\u001b[0m",
            "\u001b[0;31mAttributeError\u001b[0m                            Traceback (most recent call last)",
            "\u001b[0;32m<ipython-input-33-1cb273cbb5bb>\u001b[0m in \u001b[0;36m<cell line: 5>\u001b[0;34m()\u001b[0m\n\u001b[1;32m      3\u001b[0m \u001b[0miris_2\u001b[0m \u001b[0;34m=\u001b[0m \u001b[0macquire_from_file\u001b[0m\u001b[0;34m(\u001b[0m\u001b[0;34m'/content/eye_012.png'\u001b[0m\u001b[0;34m)\u001b[0m\u001b[0;34m\u001b[0m\u001b[0;34m\u001b[0m\u001b[0m\n\u001b[1;32m      4\u001b[0m \u001b[0;34m\u001b[0m\u001b[0m\n\u001b[0;32m----> 5\u001b[0;31m \u001b[0mnorm_iris_1\u001b[0m\u001b[0;34m,\u001b[0m \u001b[0mmask_iris_1\u001b[0m \u001b[0;34m=\u001b[0m \u001b[0menhance\u001b[0m\u001b[0;34m(\u001b[0m\u001b[0miris_1\u001b[0m\u001b[0;34m)\u001b[0m\u001b[0;34m\u001b[0m\u001b[0;34m\u001b[0m\u001b[0m\n\u001b[0m\u001b[1;32m      6\u001b[0m \u001b[0mnorm_iris_2\u001b[0m\u001b[0;34m,\u001b[0m \u001b[0mmask_iris_2\u001b[0m \u001b[0;34m=\u001b[0m \u001b[0menhance\u001b[0m\u001b[0;34m(\u001b[0m\u001b[0miris_2\u001b[0m\u001b[0;34m)\u001b[0m\u001b[0;34m\u001b[0m\u001b[0;34m\u001b[0m\u001b[0m\n\u001b[1;32m      7\u001b[0m \u001b[0;34m\u001b[0m\u001b[0m\n",
            "\u001b[0;32m<ipython-input-26-2328beccf13b>\u001b[0m in \u001b[0;36menhance\u001b[0;34m(iris, view)\u001b[0m\n\u001b[1;32m      4\u001b[0m \u001b[0;32mdef\u001b[0m \u001b[0menhance\u001b[0m\u001b[0;34m(\u001b[0m\u001b[0miris\u001b[0m\u001b[0;34m,\u001b[0m \u001b[0mview\u001b[0m\u001b[0;34m=\u001b[0m\u001b[0;32mFalse\u001b[0m\u001b[0;34m)\u001b[0m\u001b[0;34m:\u001b[0m\u001b[0;34m\u001b[0m\u001b[0;34m\u001b[0m\u001b[0m\n\u001b[1;32m      5\u001b[0m     \u001b[0;31m# pre-processes the iris\u001b[0m\u001b[0;34m\u001b[0m\u001b[0;34m\u001b[0m\u001b[0m\n\u001b[0;32m----> 6\u001b[0;31m     \u001b[0mpp_iris\u001b[0m \u001b[0;34m=\u001b[0m \u001b[0m_01_preprocess\u001b[0m\u001b[0;34m(\u001b[0m\u001b[0miris\u001b[0m\u001b[0;34m,\u001b[0m \u001b[0mview\u001b[0m\u001b[0;34m=\u001b[0m\u001b[0mview\u001b[0m\u001b[0;34m)\u001b[0m\u001b[0;34m\u001b[0m\u001b[0;34m\u001b[0m\u001b[0m\n\u001b[0m\u001b[1;32m      7\u001b[0m \u001b[0;34m\u001b[0m\u001b[0m\n\u001b[1;32m      8\u001b[0m     \u001b[0;31m# detects the pupil\u001b[0m\u001b[0;34m\u001b[0m\u001b[0;34m\u001b[0m\u001b[0m\n",
            "\u001b[0;32m<ipython-input-16-1864878c99f9>\u001b[0m in \u001b[0;36m_01_preprocess\u001b[0;34m(iris, iris_width, view)\u001b[0m\n\u001b[1;32m      4\u001b[0m \u001b[0;32mdef\u001b[0m \u001b[0m_01_preprocess\u001b[0m\u001b[0;34m(\u001b[0m\u001b[0miris\u001b[0m\u001b[0;34m,\u001b[0m \u001b[0miris_width\u001b[0m\u001b[0;34m=\u001b[0m\u001b[0;36m640\u001b[0m\u001b[0;34m,\u001b[0m \u001b[0mview\u001b[0m\u001b[0;34m=\u001b[0m\u001b[0;32mFalse\u001b[0m\u001b[0;34m)\u001b[0m\u001b[0;34m:\u001b[0m\u001b[0;34m\u001b[0m\u001b[0;34m\u001b[0m\u001b[0m\n\u001b[1;32m      5\u001b[0m     \u001b[0;31m# makes the iris grayscale, if it has color information\u001b[0m\u001b[0;34m\u001b[0m\u001b[0;34m\u001b[0m\u001b[0m\n\u001b[0;32m----> 6\u001b[0;31m     \u001b[0;32mif\u001b[0m \u001b[0mlen\u001b[0m\u001b[0;34m(\u001b[0m\u001b[0miris\u001b[0m\u001b[0;34m.\u001b[0m\u001b[0mshape\u001b[0m\u001b[0;34m)\u001b[0m \u001b[0;34m>\u001b[0m \u001b[0;36m2\u001b[0m \u001b[0;32mand\u001b[0m \u001b[0miris\u001b[0m\u001b[0;34m.\u001b[0m\u001b[0mshape\u001b[0m\u001b[0;34m[\u001b[0m\u001b[0;36m2\u001b[0m\u001b[0;34m]\u001b[0m \u001b[0;34m>\u001b[0m \u001b[0;36m1\u001b[0m\u001b[0;34m:\u001b[0m  \u001b[0;31m# more than one channel?\u001b[0m\u001b[0;34m\u001b[0m\u001b[0;34m\u001b[0m\u001b[0m\n\u001b[0m\u001b[1;32m      7\u001b[0m         \u001b[0miris\u001b[0m \u001b[0;34m=\u001b[0m \u001b[0mcv2\u001b[0m\u001b[0;34m.\u001b[0m\u001b[0mcvtColor\u001b[0m\u001b[0;34m(\u001b[0m\u001b[0miris\u001b[0m\u001b[0;34m,\u001b[0m \u001b[0mcv2\u001b[0m\u001b[0;34m.\u001b[0m\u001b[0mCOLOR_BGR2GRAY\u001b[0m\u001b[0;34m)\u001b[0m\u001b[0;34m\u001b[0m\u001b[0;34m\u001b[0m\u001b[0m\n\u001b[1;32m      8\u001b[0m \u001b[0;34m\u001b[0m\u001b[0m\n",
            "\u001b[0;31mAttributeError\u001b[0m: 'NoneType' object has no attribute 'shape'"
          ]
        }
      ]
    },
    {
      "cell_type": "markdown",
      "source": [
        "---\n",
        "## Exercise\n",
        "Compute the distances for all the possible iris pairs:\n",
        "1. <code>/content/eye_011.png</code> versus <code>/content/eye_012.png</code>\n",
        "2. <code>/content/eye_011.png</code> versus <code>/content/eye_021.png</code>\n",
        "3. <code>/content/eye_011.png</code> versus <code>/content/eye_022.png</code>\n",
        "4. <code>/content/eye_012.png</code> versus <code>/content/eye_021.png</code>\n",
        "5. <code>/content/eye_012.png</code> versus <code>/content/eye_022.png</code>\n",
        "6. <code>/content/eye_021.png</code> versus <code>/content/eye_022.png</code>\n",
        "\n",
        "Do the distance values make sense?"
      ],
      "metadata": {
        "id": "5iUPetcSSAAd"
      }
    },
    {
      "cell_type": "code",
      "source": [
        "import numpy as np\n",
        "import matplotlib.pyplot as plt\n",
        "import cv2\n",
        "\n",
        "def process_iris(file_path):\n",
        "    iris = acquire_from_file(file_path)\n",
        "    # Check if acquire_from_file returns a valid image\n",
        "    if iris is None:\n",
        "        print(f\"Error: Could not acquire image from {file_path}\")\n",
        "        return None, None # Return None for both values if image acquisition fails\n",
        "    norm_iris, mask_iris = enhance(iris)\n",
        "    desc = describe(norm_iris)\n",
        "    return desc, mask_iris\n",
        "\n",
        "def compute_distances(file_paths):\n",
        "    processed_irises = [process_iris(path) for path in file_paths]\n",
        "    distances = {}\n",
        "\n",
        "    for i in range(len(file_paths)):\n",
        "        for j in range(i+1, len(file_paths)):\n",
        "            desc1, mask1 = processed_irises[i]\n",
        "            desc2, mask2 = processed_irises[j]\n",
        "            # Check if both irises were processed successfully\n",
        "            if desc1 is None or desc2 is None:\n",
        "                print(f\"Error: Could not process one or both irises for comparison.\")\n",
        "                continue # Skip to the next iteration if processing failed\n",
        "            distance = match(desc1, mask1, desc2, mask2)\n",
        "            pair = (file_paths[i], file_paths[j])\n",
        "            distances[pair] = distance\n",
        "\n",
        "    return distances\n",
        "\n",
        "iris_files = [\n",
        "    '/content/eye_011.png',\n",
        "    '/content/eye_012.png',\n",
        "    '/content/eye_021.png',\n",
        "    '/content/eye_022.png'\n",
        "]\n",
        "\n",
        "all_distances = compute_distances(iris_files)\n",
        "\n",
        "for pair, distance in all_distances.items():\n",
        "    print(f\"Distance between {pair[0]} and {pair[1]}: {distance}\")\n",
        "\n",
        "plt.figure(figsize=(10, 6))\n",
        "plt.bar(range(len(all_distances)), list(all_distances.values()), align='center')\n",
        "plt.xticks(range(len(all_distances)), [f\"{p[0][-7:-4]} vs {p[1][-7:-4]}\" for p in all_distances.keys()], rotation=45)\n",
        "plt.ylabel('Distance')\n",
        "plt.title('Iris Matching Distances')\n",
        "plt.tight_layout()\n",
        "plt.show()"
      ],
      "metadata": {
        "colab": {
          "base_uri": "https://localhost:8080/",
          "height": 781
        },
        "id": "z6FRtArK81xY",
        "outputId": "c63be2d5-1bba-4558-f400-a9877dd044bd"
      },
      "execution_count": 46,
      "outputs": [
        {
          "output_type": "stream",
          "name": "stdout",
          "text": [
            "Error: Could not acquire image from /content/eye_011.png\n",
            "Error: Could not acquire image from /content/eye_012.png\n",
            "Error: Could not acquire image from /content/eye_021.png\n",
            "Error: Could not acquire image from /content/eye_022.png\n",
            "Error: Could not process one or both irises for comparison.\n",
            "Error: Could not process one or both irises for comparison.\n",
            "Error: Could not process one or both irises for comparison.\n",
            "Error: Could not process one or both irises for comparison.\n",
            "Error: Could not process one or both irises for comparison.\n",
            "Error: Could not process one or both irises for comparison.\n"
          ]
        },
        {
          "output_type": "display_data",
          "data": {
            "text/plain": [
              "<Figure size 1000x600 with 1 Axes>"
            ],
            "image/png": "[encoded data removed]"
          },
          "metadata": {}
        }
      ]
    }
  ]
}